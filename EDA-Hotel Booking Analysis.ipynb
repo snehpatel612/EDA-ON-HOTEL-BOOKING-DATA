{
 "cells": [
  {
   "cell_type": "markdown",
   "id": "67735191",
   "metadata": {},
   "source": [
    "# Hotel Bookings Exploratory Data Analysis"
   ]
  },
  {
   "cell_type": "markdown",
   "id": "d180ef94",
   "metadata": {},
   "source": [
    "## Objective\n",
    "We are provided with a hotel bookings dataset. \n",
    "\n",
    "Out main objective is perform EDA on the given dataset and draw useful conclusions about general trends in hotel bookings and how factors governing hotel bookings interact with each other."
   ]
  },
  {
   "cell_type": "markdown",
   "id": "7555e6f9",
   "metadata": {},
   "source": [
    "## Dataset\n",
    "We are given a hotel bookings dataset. This dataset contains booking information for a city hotel and a resort hotel. It contains the following features.\n",
    "\n",
    "```\n",
    "- hotel: Name of hotel ( City or Resort)\n",
    "- is_canceled: Whether the booking is canceled or not (0 for no canceled and 1 for canceled)\n",
    "- lead_time: time (in days) between booking transaction and actual arrival.\n",
    "- arrival_date_year: Year of arrival\n",
    "- arrival_date_month: month of arrival\n",
    "- arrival_date_week_number: week number of arrival date.\n",
    "- arrival_date_day_of_month: Day of month of arrival date\n",
    "- stays_in_weekend_nights: No. of weekend nights spent in a hotel\n",
    "- stays_in_week_nights: No. of weeknights spent in a hotel\n",
    "- adults: No. of adults in single booking record.\n",
    "- children: No. of children in single booking record.\n",
    "- babies: No. of babies in single booking record. \n",
    "- meal: Type of meal chosen \n",
    "- country: Country of origin of customers (as mentioned by them)\n",
    "- market_segment: What segment via booking was made and for what purpose.\n",
    "- distribution_channel: Via which medium booking was made.\n",
    "- is_repeated_guest: Whether the customer has made any booking before(0 for No and 1 for \n",
    "                     Yes)\n",
    "- previous_cancellations: No. of previous canceled bookings.\n",
    "- previous_bookings_not_canceled: No. of previous non-canceled bookings.\n",
    "- reserved_room_type: Room type reserved by a customer.\n",
    "- assigned_room_type: Room type assigned to the customer.\n",
    "- booking_changes: No. of booking changes done by customers\n",
    "- deposit_type: Type of deposit at the time of making a booking (No deposit/ Refundable/ No refund)\n",
    "- agent: Id of agent for booking\n",
    "- company: Id of the company making a booking\n",
    "- days_in_waiting_list: No. of days on waiting list.\n",
    "- customer_type: Type of customer(Transient, Group, etc.)\n",
    "- adr: Average Daily rate.\n",
    "- required_car_parking_spaces: No. of car parking asked in booking\n",
    "- total_of_special_requests: total no. of special request.\n",
    "- reservation_status: Whether a customer has checked out or canceled,or not showed \n",
    "- reservation_status_date: Date of making reservation status.\n",
    "```\n",
    "\n",
    "- Total number of rows in data: 119390\n",
    "- Total number of columns: 32"
   ]
  },
  {
   "cell_type": "code",
   "execution_count": 1,
   "id": "3e2fb05e",
   "metadata": {},
   "outputs": [],
   "source": [
    "import numpy as np\n",
    "import pandas as pd\n",
    "import seaborn as sns\n",
    "import matplotlib.pyplot as plt\n",
    "\n",
    "import warnings\n",
    "warnings.filterwarnings('ignore')"
   ]
  },
  {
   "cell_type": "code",
   "execution_count": 2,
   "id": "7fad7dc7",
   "metadata": {},
   "outputs": [],
   "source": [
    "df = pd.read_csv(\"hotel_bookings.csv\")"
   ]
  },
  {
   "cell_type": "code",
   "execution_count": 3,
   "id": "ee1a95c0",
   "metadata": {},
   "outputs": [
    {
     "data": {
      "text/plain": [
       "(119390, 32)"
      ]
     },
     "execution_count": 3,
     "metadata": {},
     "output_type": "execute_result"
    }
   ],
   "source": [
    "df.shape"
   ]
  },
  {
   "cell_type": "code",
   "execution_count": 4,
   "id": "913bf6fe",
   "metadata": {},
   "outputs": [
    {
     "data": {
      "text/html": [
       "<div>\n",
       "<style scoped>\n",
       "    .dataframe tbody tr th:only-of-type {\n",
       "        vertical-align: middle;\n",
       "    }\n",
       "\n",
       "    .dataframe tbody tr th {\n",
       "        vertical-align: top;\n",
       "    }\n",
       "\n",
       "    .dataframe thead th {\n",
       "        text-align: right;\n",
       "    }\n",
       "</style>\n",
       "<table border=\"1\" class=\"dataframe\">\n",
       "  <thead>\n",
       "    <tr style=\"text-align: right;\">\n",
       "      <th></th>\n",
       "      <th>hotel</th>\n",
       "      <th>is_canceled</th>\n",
       "      <th>lead_time</th>\n",
       "      <th>arrival_date_year</th>\n",
       "      <th>arrival_date_month</th>\n",
       "      <th>arrival_date_week_number</th>\n",
       "      <th>arrival_date_day_of_month</th>\n",
       "      <th>stays_in_weekend_nights</th>\n",
       "      <th>stays_in_week_nights</th>\n",
       "      <th>adults</th>\n",
       "      <th>...</th>\n",
       "      <th>deposit_type</th>\n",
       "      <th>agent</th>\n",
       "      <th>company</th>\n",
       "      <th>days_in_waiting_list</th>\n",
       "      <th>customer_type</th>\n",
       "      <th>adr</th>\n",
       "      <th>required_car_parking_spaces</th>\n",
       "      <th>total_of_special_requests</th>\n",
       "      <th>reservation_status</th>\n",
       "      <th>reservation_status_date</th>\n",
       "    </tr>\n",
       "  </thead>\n",
       "  <tbody>\n",
       "    <tr>\n",
       "      <th>0</th>\n",
       "      <td>Resort Hotel</td>\n",
       "      <td>0</td>\n",
       "      <td>342</td>\n",
       "      <td>2015</td>\n",
       "      <td>July</td>\n",
       "      <td>27</td>\n",
       "      <td>1</td>\n",
       "      <td>0</td>\n",
       "      <td>0</td>\n",
       "      <td>2</td>\n",
       "      <td>...</td>\n",
       "      <td>No Deposit</td>\n",
       "      <td>NaN</td>\n",
       "      <td>NaN</td>\n",
       "      <td>0</td>\n",
       "      <td>Transient</td>\n",
       "      <td>0.0</td>\n",
       "      <td>0</td>\n",
       "      <td>0</td>\n",
       "      <td>Check-Out</td>\n",
       "      <td>2015-07-01</td>\n",
       "    </tr>\n",
       "    <tr>\n",
       "      <th>1</th>\n",
       "      <td>Resort Hotel</td>\n",
       "      <td>0</td>\n",
       "      <td>737</td>\n",
       "      <td>2015</td>\n",
       "      <td>July</td>\n",
       "      <td>27</td>\n",
       "      <td>1</td>\n",
       "      <td>0</td>\n",
       "      <td>0</td>\n",
       "      <td>2</td>\n",
       "      <td>...</td>\n",
       "      <td>No Deposit</td>\n",
       "      <td>NaN</td>\n",
       "      <td>NaN</td>\n",
       "      <td>0</td>\n",
       "      <td>Transient</td>\n",
       "      <td>0.0</td>\n",
       "      <td>0</td>\n",
       "      <td>0</td>\n",
       "      <td>Check-Out</td>\n",
       "      <td>2015-07-01</td>\n",
       "    </tr>\n",
       "    <tr>\n",
       "      <th>2</th>\n",
       "      <td>Resort Hotel</td>\n",
       "      <td>0</td>\n",
       "      <td>7</td>\n",
       "      <td>2015</td>\n",
       "      <td>July</td>\n",
       "      <td>27</td>\n",
       "      <td>1</td>\n",
       "      <td>0</td>\n",
       "      <td>1</td>\n",
       "      <td>1</td>\n",
       "      <td>...</td>\n",
       "      <td>No Deposit</td>\n",
       "      <td>NaN</td>\n",
       "      <td>NaN</td>\n",
       "      <td>0</td>\n",
       "      <td>Transient</td>\n",
       "      <td>75.0</td>\n",
       "      <td>0</td>\n",
       "      <td>0</td>\n",
       "      <td>Check-Out</td>\n",
       "      <td>2015-07-02</td>\n",
       "    </tr>\n",
       "    <tr>\n",
       "      <th>3</th>\n",
       "      <td>Resort Hotel</td>\n",
       "      <td>0</td>\n",
       "      <td>13</td>\n",
       "      <td>2015</td>\n",
       "      <td>July</td>\n",
       "      <td>27</td>\n",
       "      <td>1</td>\n",
       "      <td>0</td>\n",
       "      <td>1</td>\n",
       "      <td>1</td>\n",
       "      <td>...</td>\n",
       "      <td>No Deposit</td>\n",
       "      <td>304.0</td>\n",
       "      <td>NaN</td>\n",
       "      <td>0</td>\n",
       "      <td>Transient</td>\n",
       "      <td>75.0</td>\n",
       "      <td>0</td>\n",
       "      <td>0</td>\n",
       "      <td>Check-Out</td>\n",
       "      <td>2015-07-02</td>\n",
       "    </tr>\n",
       "    <tr>\n",
       "      <th>4</th>\n",
       "      <td>Resort Hotel</td>\n",
       "      <td>0</td>\n",
       "      <td>14</td>\n",
       "      <td>2015</td>\n",
       "      <td>July</td>\n",
       "      <td>27</td>\n",
       "      <td>1</td>\n",
       "      <td>0</td>\n",
       "      <td>2</td>\n",
       "      <td>2</td>\n",
       "      <td>...</td>\n",
       "      <td>No Deposit</td>\n",
       "      <td>240.0</td>\n",
       "      <td>NaN</td>\n",
       "      <td>0</td>\n",
       "      <td>Transient</td>\n",
       "      <td>98.0</td>\n",
       "      <td>0</td>\n",
       "      <td>1</td>\n",
       "      <td>Check-Out</td>\n",
       "      <td>2015-07-03</td>\n",
       "    </tr>\n",
       "  </tbody>\n",
       "</table>\n",
       "<p>5 rows × 32 columns</p>\n",
       "</div>"
      ],
      "text/plain": [
       "          hotel  is_canceled  lead_time  arrival_date_year arrival_date_month  \\\n",
       "0  Resort Hotel            0        342               2015               July   \n",
       "1  Resort Hotel            0        737               2015               July   \n",
       "2  Resort Hotel            0          7               2015               July   \n",
       "3  Resort Hotel            0         13               2015               July   \n",
       "4  Resort Hotel            0         14               2015               July   \n",
       "\n",
       "   arrival_date_week_number  arrival_date_day_of_month  \\\n",
       "0                        27                          1   \n",
       "1                        27                          1   \n",
       "2                        27                          1   \n",
       "3                        27                          1   \n",
       "4                        27                          1   \n",
       "\n",
       "   stays_in_weekend_nights  stays_in_week_nights  adults  ...  deposit_type  \\\n",
       "0                        0                     0       2  ...    No Deposit   \n",
       "1                        0                     0       2  ...    No Deposit   \n",
       "2                        0                     1       1  ...    No Deposit   \n",
       "3                        0                     1       1  ...    No Deposit   \n",
       "4                        0                     2       2  ...    No Deposit   \n",
       "\n",
       "   agent company days_in_waiting_list customer_type   adr  \\\n",
       "0    NaN     NaN                    0     Transient   0.0   \n",
       "1    NaN     NaN                    0     Transient   0.0   \n",
       "2    NaN     NaN                    0     Transient  75.0   \n",
       "3  304.0     NaN                    0     Transient  75.0   \n",
       "4  240.0     NaN                    0     Transient  98.0   \n",
       "\n",
       "   required_car_parking_spaces  total_of_special_requests  reservation_status  \\\n",
       "0                            0                          0           Check-Out   \n",
       "1                            0                          0           Check-Out   \n",
       "2                            0                          0           Check-Out   \n",
       "3                            0                          0           Check-Out   \n",
       "4                            0                          1           Check-Out   \n",
       "\n",
       "  reservation_status_date  \n",
       "0              2015-07-01  \n",
       "1              2015-07-01  \n",
       "2              2015-07-02  \n",
       "3              2015-07-02  \n",
       "4              2015-07-03  \n",
       "\n",
       "[5 rows x 32 columns]"
      ]
     },
     "execution_count": 4,
     "metadata": {},
     "output_type": "execute_result"
    }
   ],
   "source": [
    "df.head()"
   ]
  },
  {
   "cell_type": "code",
   "execution_count": 5,
   "id": "75fa1134",
   "metadata": {},
   "outputs": [
    {
     "name": "stdout",
     "output_type": "stream",
     "text": [
      "<class 'pandas.core.frame.DataFrame'>\n",
      "RangeIndex: 119390 entries, 0 to 119389\n",
      "Data columns (total 32 columns):\n",
      " #   Column                          Non-Null Count   Dtype  \n",
      "---  ------                          --------------   -----  \n",
      " 0   hotel                           119390 non-null  object \n",
      " 1   is_canceled                     119390 non-null  int64  \n",
      " 2   lead_time                       119390 non-null  int64  \n",
      " 3   arrival_date_year               119390 non-null  int64  \n",
      " 4   arrival_date_month              119390 non-null  object \n",
      " 5   arrival_date_week_number        119390 non-null  int64  \n",
      " 6   arrival_date_day_of_month       119390 non-null  int64  \n",
      " 7   stays_in_weekend_nights         119390 non-null  int64  \n",
      " 8   stays_in_week_nights            119390 non-null  int64  \n",
      " 9   adults                          119390 non-null  int64  \n",
      " 10  children                        119386 non-null  float64\n",
      " 11  babies                          119390 non-null  int64  \n",
      " 12  meal                            119390 non-null  object \n",
      " 13  country                         118902 non-null  object \n",
      " 14  market_segment                  119390 non-null  object \n",
      " 15  distribution_channel            119390 non-null  object \n",
      " 16  is_repeated_guest               119390 non-null  int64  \n",
      " 17  previous_cancellations          119390 non-null  int64  \n",
      " 18  previous_bookings_not_canceled  119390 non-null  int64  \n",
      " 19  reserved_room_type              119390 non-null  object \n",
      " 20  assigned_room_type              119390 non-null  object \n",
      " 21  booking_changes                 119390 non-null  int64  \n",
      " 22  deposit_type                    119390 non-null  object \n",
      " 23  agent                           103050 non-null  float64\n",
      " 24  company                         6797 non-null    float64\n",
      " 25  days_in_waiting_list            119390 non-null  int64  \n",
      " 26  customer_type                   119390 non-null  object \n",
      " 27  adr                             119390 non-null  float64\n",
      " 28  required_car_parking_spaces     119390 non-null  int64  \n",
      " 29  total_of_special_requests       119390 non-null  int64  \n",
      " 30  reservation_status              119390 non-null  object \n",
      " 31  reservation_status_date         119390 non-null  object \n",
      "dtypes: float64(4), int64(16), object(12)\n",
      "memory usage: 29.1+ MB\n"
     ]
    }
   ],
   "source": [
    "df.info()"
   ]
  },
  {
   "cell_type": "code",
   "execution_count": 6,
   "id": "db9d88c7",
   "metadata": {},
   "outputs": [
    {
     "data": {
      "text/html": [
       "<div>\n",
       "<style scoped>\n",
       "    .dataframe tbody tr th:only-of-type {\n",
       "        vertical-align: middle;\n",
       "    }\n",
       "\n",
       "    .dataframe tbody tr th {\n",
       "        vertical-align: top;\n",
       "    }\n",
       "\n",
       "    .dataframe thead th {\n",
       "        text-align: right;\n",
       "    }\n",
       "</style>\n",
       "<table border=\"1\" class=\"dataframe\">\n",
       "  <thead>\n",
       "    <tr style=\"text-align: right;\">\n",
       "      <th></th>\n",
       "      <th>is_canceled</th>\n",
       "      <th>lead_time</th>\n",
       "      <th>arrival_date_year</th>\n",
       "      <th>arrival_date_week_number</th>\n",
       "      <th>arrival_date_day_of_month</th>\n",
       "      <th>stays_in_weekend_nights</th>\n",
       "      <th>stays_in_week_nights</th>\n",
       "      <th>adults</th>\n",
       "      <th>children</th>\n",
       "      <th>babies</th>\n",
       "      <th>is_repeated_guest</th>\n",
       "      <th>previous_cancellations</th>\n",
       "      <th>previous_bookings_not_canceled</th>\n",
       "      <th>booking_changes</th>\n",
       "      <th>agent</th>\n",
       "      <th>company</th>\n",
       "      <th>days_in_waiting_list</th>\n",
       "      <th>adr</th>\n",
       "      <th>required_car_parking_spaces</th>\n",
       "      <th>total_of_special_requests</th>\n",
       "    </tr>\n",
       "  </thead>\n",
       "  <tbody>\n",
       "    <tr>\n",
       "      <th>count</th>\n",
       "      <td>119390.000000</td>\n",
       "      <td>119390.000000</td>\n",
       "      <td>119390.000000</td>\n",
       "      <td>119390.000000</td>\n",
       "      <td>119390.000000</td>\n",
       "      <td>119390.000000</td>\n",
       "      <td>119390.000000</td>\n",
       "      <td>119390.000000</td>\n",
       "      <td>119386.000000</td>\n",
       "      <td>119390.000000</td>\n",
       "      <td>119390.000000</td>\n",
       "      <td>119390.000000</td>\n",
       "      <td>119390.000000</td>\n",
       "      <td>119390.000000</td>\n",
       "      <td>103050.000000</td>\n",
       "      <td>6797.000000</td>\n",
       "      <td>119390.000000</td>\n",
       "      <td>119390.000000</td>\n",
       "      <td>119390.000000</td>\n",
       "      <td>119390.000000</td>\n",
       "    </tr>\n",
       "    <tr>\n",
       "      <th>mean</th>\n",
       "      <td>0.370416</td>\n",
       "      <td>104.011416</td>\n",
       "      <td>2016.156554</td>\n",
       "      <td>27.165173</td>\n",
       "      <td>15.798241</td>\n",
       "      <td>0.927599</td>\n",
       "      <td>2.500302</td>\n",
       "      <td>1.856403</td>\n",
       "      <td>0.103890</td>\n",
       "      <td>0.007949</td>\n",
       "      <td>0.031912</td>\n",
       "      <td>0.087118</td>\n",
       "      <td>0.137097</td>\n",
       "      <td>0.221124</td>\n",
       "      <td>86.693382</td>\n",
       "      <td>189.266735</td>\n",
       "      <td>2.321149</td>\n",
       "      <td>101.831122</td>\n",
       "      <td>0.062518</td>\n",
       "      <td>0.571363</td>\n",
       "    </tr>\n",
       "    <tr>\n",
       "      <th>std</th>\n",
       "      <td>0.482918</td>\n",
       "      <td>106.863097</td>\n",
       "      <td>0.707476</td>\n",
       "      <td>13.605138</td>\n",
       "      <td>8.780829</td>\n",
       "      <td>0.998613</td>\n",
       "      <td>1.908286</td>\n",
       "      <td>0.579261</td>\n",
       "      <td>0.398561</td>\n",
       "      <td>0.097436</td>\n",
       "      <td>0.175767</td>\n",
       "      <td>0.844336</td>\n",
       "      <td>1.497437</td>\n",
       "      <td>0.652306</td>\n",
       "      <td>110.774548</td>\n",
       "      <td>131.655015</td>\n",
       "      <td>17.594721</td>\n",
       "      <td>50.535790</td>\n",
       "      <td>0.245291</td>\n",
       "      <td>0.792798</td>\n",
       "    </tr>\n",
       "    <tr>\n",
       "      <th>min</th>\n",
       "      <td>0.000000</td>\n",
       "      <td>0.000000</td>\n",
       "      <td>2015.000000</td>\n",
       "      <td>1.000000</td>\n",
       "      <td>1.000000</td>\n",
       "      <td>0.000000</td>\n",
       "      <td>0.000000</td>\n",
       "      <td>0.000000</td>\n",
       "      <td>0.000000</td>\n",
       "      <td>0.000000</td>\n",
       "      <td>0.000000</td>\n",
       "      <td>0.000000</td>\n",
       "      <td>0.000000</td>\n",
       "      <td>0.000000</td>\n",
       "      <td>1.000000</td>\n",
       "      <td>6.000000</td>\n",
       "      <td>0.000000</td>\n",
       "      <td>-6.380000</td>\n",
       "      <td>0.000000</td>\n",
       "      <td>0.000000</td>\n",
       "    </tr>\n",
       "    <tr>\n",
       "      <th>25%</th>\n",
       "      <td>0.000000</td>\n",
       "      <td>18.000000</td>\n",
       "      <td>2016.000000</td>\n",
       "      <td>16.000000</td>\n",
       "      <td>8.000000</td>\n",
       "      <td>0.000000</td>\n",
       "      <td>1.000000</td>\n",
       "      <td>2.000000</td>\n",
       "      <td>0.000000</td>\n",
       "      <td>0.000000</td>\n",
       "      <td>0.000000</td>\n",
       "      <td>0.000000</td>\n",
       "      <td>0.000000</td>\n",
       "      <td>0.000000</td>\n",
       "      <td>9.000000</td>\n",
       "      <td>62.000000</td>\n",
       "      <td>0.000000</td>\n",
       "      <td>69.290000</td>\n",
       "      <td>0.000000</td>\n",
       "      <td>0.000000</td>\n",
       "    </tr>\n",
       "    <tr>\n",
       "      <th>50%</th>\n",
       "      <td>0.000000</td>\n",
       "      <td>69.000000</td>\n",
       "      <td>2016.000000</td>\n",
       "      <td>28.000000</td>\n",
       "      <td>16.000000</td>\n",
       "      <td>1.000000</td>\n",
       "      <td>2.000000</td>\n",
       "      <td>2.000000</td>\n",
       "      <td>0.000000</td>\n",
       "      <td>0.000000</td>\n",
       "      <td>0.000000</td>\n",
       "      <td>0.000000</td>\n",
       "      <td>0.000000</td>\n",
       "      <td>0.000000</td>\n",
       "      <td>14.000000</td>\n",
       "      <td>179.000000</td>\n",
       "      <td>0.000000</td>\n",
       "      <td>94.575000</td>\n",
       "      <td>0.000000</td>\n",
       "      <td>0.000000</td>\n",
       "    </tr>\n",
       "    <tr>\n",
       "      <th>75%</th>\n",
       "      <td>1.000000</td>\n",
       "      <td>160.000000</td>\n",
       "      <td>2017.000000</td>\n",
       "      <td>38.000000</td>\n",
       "      <td>23.000000</td>\n",
       "      <td>2.000000</td>\n",
       "      <td>3.000000</td>\n",
       "      <td>2.000000</td>\n",
       "      <td>0.000000</td>\n",
       "      <td>0.000000</td>\n",
       "      <td>0.000000</td>\n",
       "      <td>0.000000</td>\n",
       "      <td>0.000000</td>\n",
       "      <td>0.000000</td>\n",
       "      <td>229.000000</td>\n",
       "      <td>270.000000</td>\n",
       "      <td>0.000000</td>\n",
       "      <td>126.000000</td>\n",
       "      <td>0.000000</td>\n",
       "      <td>1.000000</td>\n",
       "    </tr>\n",
       "    <tr>\n",
       "      <th>max</th>\n",
       "      <td>1.000000</td>\n",
       "      <td>737.000000</td>\n",
       "      <td>2017.000000</td>\n",
       "      <td>53.000000</td>\n",
       "      <td>31.000000</td>\n",
       "      <td>19.000000</td>\n",
       "      <td>50.000000</td>\n",
       "      <td>55.000000</td>\n",
       "      <td>10.000000</td>\n",
       "      <td>10.000000</td>\n",
       "      <td>1.000000</td>\n",
       "      <td>26.000000</td>\n",
       "      <td>72.000000</td>\n",
       "      <td>21.000000</td>\n",
       "      <td>535.000000</td>\n",
       "      <td>543.000000</td>\n",
       "      <td>391.000000</td>\n",
       "      <td>5400.000000</td>\n",
       "      <td>8.000000</td>\n",
       "      <td>5.000000</td>\n",
       "    </tr>\n",
       "  </tbody>\n",
       "</table>\n",
       "</div>"
      ],
      "text/plain": [
       "         is_canceled      lead_time  arrival_date_year  \\\n",
       "count  119390.000000  119390.000000      119390.000000   \n",
       "mean        0.370416     104.011416        2016.156554   \n",
       "std         0.482918     106.863097           0.707476   \n",
       "min         0.000000       0.000000        2015.000000   \n",
       "25%         0.000000      18.000000        2016.000000   \n",
       "50%         0.000000      69.000000        2016.000000   \n",
       "75%         1.000000     160.000000        2017.000000   \n",
       "max         1.000000     737.000000        2017.000000   \n",
       "\n",
       "       arrival_date_week_number  arrival_date_day_of_month  \\\n",
       "count             119390.000000              119390.000000   \n",
       "mean                  27.165173                  15.798241   \n",
       "std                   13.605138                   8.780829   \n",
       "min                    1.000000                   1.000000   \n",
       "25%                   16.000000                   8.000000   \n",
       "50%                   28.000000                  16.000000   \n",
       "75%                   38.000000                  23.000000   \n",
       "max                   53.000000                  31.000000   \n",
       "\n",
       "       stays_in_weekend_nights  stays_in_week_nights         adults  \\\n",
       "count            119390.000000         119390.000000  119390.000000   \n",
       "mean                  0.927599              2.500302       1.856403   \n",
       "std                   0.998613              1.908286       0.579261   \n",
       "min                   0.000000              0.000000       0.000000   \n",
       "25%                   0.000000              1.000000       2.000000   \n",
       "50%                   1.000000              2.000000       2.000000   \n",
       "75%                   2.000000              3.000000       2.000000   \n",
       "max                  19.000000             50.000000      55.000000   \n",
       "\n",
       "            children         babies  is_repeated_guest  \\\n",
       "count  119386.000000  119390.000000      119390.000000   \n",
       "mean        0.103890       0.007949           0.031912   \n",
       "std         0.398561       0.097436           0.175767   \n",
       "min         0.000000       0.000000           0.000000   \n",
       "25%         0.000000       0.000000           0.000000   \n",
       "50%         0.000000       0.000000           0.000000   \n",
       "75%         0.000000       0.000000           0.000000   \n",
       "max        10.000000      10.000000           1.000000   \n",
       "\n",
       "       previous_cancellations  previous_bookings_not_canceled  \\\n",
       "count           119390.000000                   119390.000000   \n",
       "mean                 0.087118                        0.137097   \n",
       "std                  0.844336                        1.497437   \n",
       "min                  0.000000                        0.000000   \n",
       "25%                  0.000000                        0.000000   \n",
       "50%                  0.000000                        0.000000   \n",
       "75%                  0.000000                        0.000000   \n",
       "max                 26.000000                       72.000000   \n",
       "\n",
       "       booking_changes          agent      company  days_in_waiting_list  \\\n",
       "count    119390.000000  103050.000000  6797.000000         119390.000000   \n",
       "mean          0.221124      86.693382   189.266735              2.321149   \n",
       "std           0.652306     110.774548   131.655015             17.594721   \n",
       "min           0.000000       1.000000     6.000000              0.000000   \n",
       "25%           0.000000       9.000000    62.000000              0.000000   \n",
       "50%           0.000000      14.000000   179.000000              0.000000   \n",
       "75%           0.000000     229.000000   270.000000              0.000000   \n",
       "max          21.000000     535.000000   543.000000            391.000000   \n",
       "\n",
       "                 adr  required_car_parking_spaces  total_of_special_requests  \n",
       "count  119390.000000                119390.000000              119390.000000  \n",
       "mean      101.831122                     0.062518                   0.571363  \n",
       "std        50.535790                     0.245291                   0.792798  \n",
       "min        -6.380000                     0.000000                   0.000000  \n",
       "25%        69.290000                     0.000000                   0.000000  \n",
       "50%        94.575000                     0.000000                   0.000000  \n",
       "75%       126.000000                     0.000000                   1.000000  \n",
       "max      5400.000000                     8.000000                   5.000000  "
      ]
     },
     "execution_count": 6,
     "metadata": {},
     "output_type": "execute_result"
    }
   ],
   "source": [
    "df.describe()"
   ]
  },
  {
   "cell_type": "code",
   "execution_count": 7,
   "id": "a1ea6faa",
   "metadata": {},
   "outputs": [],
   "source": [
    "# Create the copy of the dataframe\n",
    "\n",
    "df1 = df.copy()"
   ]
  },
  {
   "cell_type": "code",
   "execution_count": 8,
   "id": "14fb14a5",
   "metadata": {},
   "outputs": [
    {
     "data": {
      "text/plain": [
       "City Hotel      79330\n",
       "Resort Hotel    40060\n",
       "Name: hotel, dtype: int64"
      ]
     },
     "execution_count": 8,
     "metadata": {},
     "output_type": "execute_result"
    }
   ],
   "source": [
    "df1.hotel.value_counts()"
   ]
  },
  {
   "cell_type": "code",
   "execution_count": 9,
   "id": "3bd790a1",
   "metadata": {},
   "outputs": [
    {
     "data": {
      "text/plain": [
       "0    75166\n",
       "1    44224\n",
       "Name: is_canceled, dtype: int64"
      ]
     },
     "execution_count": 9,
     "metadata": {},
     "output_type": "execute_result"
    }
   ],
   "source": [
    "df1.is_canceled.value_counts(dropna=False)"
   ]
  },
  {
   "cell_type": "code",
   "execution_count": 10,
   "id": "029061f2",
   "metadata": {},
   "outputs": [
    {
     "data": {
      "text/plain": [
       "2016    56707\n",
       "2017    40687\n",
       "2015    21996\n",
       "Name: arrival_date_year, dtype: int64"
      ]
     },
     "execution_count": 10,
     "metadata": {},
     "output_type": "execute_result"
    }
   ],
   "source": [
    "df1.arrival_date_year.value_counts(dropna=False)"
   ]
  },
  {
   "cell_type": "code",
   "execution_count": 11,
   "id": "d5ce791e",
   "metadata": {},
   "outputs": [
    {
     "data": {
      "text/plain": [
       "BB           92310\n",
       "HB           14463\n",
       "SC           10650\n",
       "Undefined     1169\n",
       "FB             798\n",
       "Name: meal, dtype: int64"
      ]
     },
     "execution_count": 11,
     "metadata": {},
     "output_type": "execute_result"
    }
   ],
   "source": [
    "df1.meal.value_counts(dropna=False)"
   ]
  },
  {
   "cell_type": "code",
   "execution_count": 12,
   "id": "d0691d1a",
   "metadata": {},
   "outputs": [
    {
     "data": {
      "text/plain": [
       "Online TA        56477\n",
       "Offline TA/TO    24219\n",
       "Groups           19811\n",
       "Direct           12606\n",
       "Corporate         5295\n",
       "Complementary      743\n",
       "Aviation           237\n",
       "Undefined            2\n",
       "Name: market_segment, dtype: int64"
      ]
     },
     "execution_count": 12,
     "metadata": {},
     "output_type": "execute_result"
    }
   ],
   "source": [
    "df1.market_segment.value_counts(dropna=False)\n"
   ]
  },
  {
   "cell_type": "code",
   "execution_count": 13,
   "id": "9cf0b10f",
   "metadata": {},
   "outputs": [
    {
     "data": {
      "text/plain": [
       "TA/TO        97870\n",
       "Direct       14645\n",
       "Corporate     6677\n",
       "GDS            193\n",
       "Undefined        5\n",
       "Name: distribution_channel, dtype: int64"
      ]
     },
     "execution_count": 13,
     "metadata": {},
     "output_type": "execute_result"
    }
   ],
   "source": [
    "df1.distribution_channel.value_counts(dropna=False)\n"
   ]
  },
  {
   "cell_type": "code",
   "execution_count": 14,
   "id": "c7116d58",
   "metadata": {},
   "outputs": [
    {
     "data": {
      "text/plain": [
       "0.0     110796\n",
       "1.0       4861\n",
       "2.0       3652\n",
       "3.0         76\n",
       "NaN          4\n",
       "10.0         1\n",
       "Name: children, dtype: int64"
      ]
     },
     "execution_count": 14,
     "metadata": {},
     "output_type": "execute_result"
    }
   ],
   "source": [
    "df1.children.value_counts(dropna=False)"
   ]
  },
  {
   "cell_type": "markdown",
   "id": "d26e44ab",
   "metadata": {},
   "source": [
    "### <b> Cleaning data </b> \n",
    "\n",
    "Cleaning data is crucial step before EDA as it will remove the ambigous data that can affect the outcome of EDA.\n",
    "\n",
    "While cleaning data we will perform following steps: \n",
    "1) Remove duplicate rows  \n",
    "2) Handling missing values.  \n",
    "3) Convert columns to appropriate datatypes.  \n",
    "4) Adding important columns"
   ]
  },
  {
   "cell_type": "markdown",
   "id": "6c74a6fd",
   "metadata": {},
   "source": [
    "### 1) Remove duplicate rows"
   ]
  },
  {
   "cell_type": "code",
   "execution_count": 15,
   "id": "b2d26c65",
   "metadata": {},
   "outputs": [
    {
     "data": {
      "text/plain": [
       "(31994, 32)"
      ]
     },
     "execution_count": 15,
     "metadata": {},
     "output_type": "execute_result"
    }
   ],
   "source": [
    "df1[df1.duplicated()].shape"
   ]
  },
  {
   "cell_type": "code",
   "execution_count": 16,
   "id": "8026119d",
   "metadata": {},
   "outputs": [],
   "source": [
    "# Dropping duplicate values\n",
    "df1.drop_duplicates(inplace = True)"
   ]
  },
  {
   "cell_type": "code",
   "execution_count": 17,
   "id": "67dba40f",
   "metadata": {},
   "outputs": [
    {
     "data": {
      "text/plain": [
       "(87396, 32)"
      ]
     },
     "execution_count": 17,
     "metadata": {},
     "output_type": "execute_result"
    }
   ],
   "source": [
    "df1.shape"
   ]
  },
  {
   "cell_type": "markdown",
   "id": "9a393635",
   "metadata": {},
   "source": [
    "### 2) Handling missing values."
   ]
  },
  {
   "cell_type": "code",
   "execution_count": 18,
   "id": "6fcf11a7",
   "metadata": {},
   "outputs": [
    {
     "data": {
      "text/plain": [
       "company     82137\n",
       "agent       12193\n",
       "country       452\n",
       "children        4\n",
       "dtype: int64"
      ]
     },
     "execution_count": 18,
     "metadata": {},
     "output_type": "execute_result"
    }
   ],
   "source": [
    "df1.isnull().sum().sort_values(ascending = False)[:4]"
   ]
  },
  {
   "cell_type": "markdown",
   "id": "ea69d903",
   "metadata": {},
   "source": [
    "Since, company and agent columns have null values. There may be some cases in which the customer didnt booked hotel through any agent or company.So, null values can be kept and will be replaced by 0."
   ]
  },
  {
   "cell_type": "code",
   "execution_count": 19,
   "id": "e29edc00",
   "metadata": {},
   "outputs": [],
   "source": [
    "df1.agent.fillna(0, inplace = True)"
   ]
  },
  {
   "cell_type": "code",
   "execution_count": 20,
   "id": "317a31c9",
   "metadata": {},
   "outputs": [
    {
     "data": {
      "text/plain": [
       "company                    82137\n",
       "country                      452\n",
       "children                       4\n",
       "reservation_status_date        0\n",
       "dtype: int64"
      ]
     },
     "execution_count": 20,
     "metadata": {},
     "output_type": "execute_result"
    }
   ],
   "source": [
    "df1.isnull().sum().sort_values(ascending = False)[:4]"
   ]
  },
  {
   "cell_type": "code",
   "execution_count": 21,
   "id": "ac66ec7c",
   "metadata": {},
   "outputs": [],
   "source": [
    "df1.company.fillna(0, inplace = True)"
   ]
  },
  {
   "cell_type": "code",
   "execution_count": 22,
   "id": "8ab8bcdc",
   "metadata": {},
   "outputs": [
    {
     "data": {
      "text/plain": [
       "country                    452\n",
       "children                     4\n",
       "reservation_status_date      0\n",
       "reservation_status           0\n",
       "dtype: int64"
      ]
     },
     "execution_count": 22,
     "metadata": {},
     "output_type": "execute_result"
    }
   ],
   "source": [
    "df1.isnull().sum().sort_values(ascending = False)[:4]"
   ]
  },
  {
   "cell_type": "code",
   "execution_count": 23,
   "id": "49ec6d8a",
   "metadata": {},
   "outputs": [
    {
     "data": {
      "text/plain": [
       "0.0     79028\n",
       "1.0      4695\n",
       "2.0      3593\n",
       "3.0        75\n",
       "NaN         4\n",
       "10.0        1\n",
       "Name: children, dtype: int64"
      ]
     },
     "execution_count": 23,
     "metadata": {},
     "output_type": "execute_result"
    }
   ],
   "source": [
    "df1.children.value_counts(dropna = False)"
   ]
  },
  {
   "cell_type": "markdown",
   "id": "68f6912c",
   "metadata": {},
   "source": [
    "Nan values can be replaced with 0 values as 0 column is present . So customer might have forgetten to fill the column"
   ]
  },
  {
   "cell_type": "code",
   "execution_count": 24,
   "id": "cbdc16ac",
   "metadata": {},
   "outputs": [],
   "source": [
    "df1.children.fillna(0, inplace = True)"
   ]
  },
  {
   "cell_type": "code",
   "execution_count": 25,
   "id": "4aebb3f0",
   "metadata": {},
   "outputs": [
    {
     "data": {
      "text/plain": [
       "0.0     79032\n",
       "1.0      4695\n",
       "2.0      3593\n",
       "3.0        75\n",
       "10.0        1\n",
       "Name: children, dtype: int64"
      ]
     },
     "execution_count": 25,
     "metadata": {},
     "output_type": "execute_result"
    }
   ],
   "source": [
    "df1.children.value_counts(dropna = False)"
   ]
  },
  {
   "cell_type": "code",
   "execution_count": 26,
   "id": "22c6129c",
   "metadata": {},
   "outputs": [
    {
     "data": {
      "text/plain": [
       "country                    452\n",
       "reservation_status_date      0\n",
       "reservation_status           0\n",
       "is_canceled                  0\n",
       "dtype: int64"
      ]
     },
     "execution_count": 26,
     "metadata": {},
     "output_type": "execute_result"
    }
   ],
   "source": [
    "df1.isnull().sum().sort_values(ascending = False)[:4]"
   ]
  },
  {
   "cell_type": "code",
   "execution_count": 27,
   "id": "9de15a22",
   "metadata": {},
   "outputs": [
    {
     "data": {
      "text/plain": [
       "PRT    27453\n",
       "GBR    10433\n",
       "FRA     8837\n",
       "ESP     7252\n",
       "DEU     5387\n",
       "       ...  \n",
       "MRT        1\n",
       "DMA        1\n",
       "HND        1\n",
       "DJI        1\n",
       "KHM        1\n",
       "Name: country, Length: 178, dtype: int64"
      ]
     },
     "execution_count": 27,
     "metadata": {},
     "output_type": "execute_result"
    }
   ],
   "source": [
    "df1.country.value_counts(dropna=False)"
   ]
  },
  {
   "cell_type": "code",
   "execution_count": 28,
   "id": "3e66d729",
   "metadata": {},
   "outputs": [],
   "source": [
    "df1.country.fillna('others', inplace = True)"
   ]
  },
  {
   "cell_type": "code",
   "execution_count": 29,
   "id": "660834b9",
   "metadata": {},
   "outputs": [
    {
     "data": {
      "text/plain": [
       "reservation_status_date           0\n",
       "reservation_status                0\n",
       "is_canceled                       0\n",
       "lead_time                         0\n",
       "arrival_date_year                 0\n",
       "arrival_date_month                0\n",
       "arrival_date_week_number          0\n",
       "arrival_date_day_of_month         0\n",
       "stays_in_weekend_nights           0\n",
       "stays_in_week_nights              0\n",
       "adults                            0\n",
       "children                          0\n",
       "babies                            0\n",
       "meal                              0\n",
       "country                           0\n",
       "market_segment                    0\n",
       "distribution_channel              0\n",
       "is_repeated_guest                 0\n",
       "previous_cancellations            0\n",
       "previous_bookings_not_canceled    0\n",
       "reserved_room_type                0\n",
       "assigned_room_type                0\n",
       "booking_changes                   0\n",
       "deposit_type                      0\n",
       "agent                             0\n",
       "company                           0\n",
       "days_in_waiting_list              0\n",
       "customer_type                     0\n",
       "adr                               0\n",
       "required_car_parking_spaces       0\n",
       "total_of_special_requests         0\n",
       "hotel                             0\n",
       "dtype: int64"
      ]
     },
     "execution_count": 29,
     "metadata": {},
     "output_type": "execute_result"
    }
   ],
   "source": [
    "df1.isnull().sum().sort_values(ascending = False)"
   ]
  },
  {
   "cell_type": "code",
   "execution_count": 30,
   "id": "a7b309dc",
   "metadata": {},
   "outputs": [
    {
     "data": {
      "text/plain": [
       "(166, 32)"
      ]
     },
     "execution_count": 30,
     "metadata": {},
     "output_type": "execute_result"
    }
   ],
   "source": [
    "df1[(df1.adults + df1.babies + df1.children) == 0].shape"
   ]
  },
  {
   "cell_type": "markdown",
   "id": "599dd6d1",
   "metadata": {},
   "source": [
    "There are some rows where total number of adults,children and babies is zero. So, we will remove such rows."
   ]
  },
  {
   "cell_type": "code",
   "execution_count": 31,
   "id": "90b3e84a",
   "metadata": {},
   "outputs": [],
   "source": [
    "df1.drop(df1[(df1.adults + df1.babies + df1.children) == 0].index, inplace = True)"
   ]
  },
  {
   "cell_type": "code",
   "execution_count": 32,
   "id": "ae957db1",
   "metadata": {},
   "outputs": [
    {
     "data": {
      "text/plain": [
       "(87230, 32)"
      ]
     },
     "execution_count": 32,
     "metadata": {},
     "output_type": "execute_result"
    }
   ],
   "source": [
    "df1.shape"
   ]
  },
  {
   "cell_type": "code",
   "execution_count": 33,
   "id": "620d5962",
   "metadata": {},
   "outputs": [
    {
     "data": {
      "text/plain": [
       "hotel                              object\n",
       "is_canceled                         int64\n",
       "lead_time                           int64\n",
       "arrival_date_year                   int64\n",
       "arrival_date_month                 object\n",
       "arrival_date_week_number            int64\n",
       "arrival_date_day_of_month           int64\n",
       "stays_in_weekend_nights             int64\n",
       "stays_in_week_nights                int64\n",
       "adults                              int64\n",
       "children                          float64\n",
       "babies                              int64\n",
       "meal                               object\n",
       "country                            object\n",
       "market_segment                     object\n",
       "distribution_channel               object\n",
       "is_repeated_guest                   int64\n",
       "previous_cancellations              int64\n",
       "previous_bookings_not_canceled      int64\n",
       "reserved_room_type                 object\n",
       "assigned_room_type                 object\n",
       "booking_changes                     int64\n",
       "deposit_type                       object\n",
       "agent                             float64\n",
       "company                           float64\n",
       "days_in_waiting_list                int64\n",
       "customer_type                      object\n",
       "adr                               float64\n",
       "required_car_parking_spaces         int64\n",
       "total_of_special_requests           int64\n",
       "reservation_status                 object\n",
       "reservation_status_date            object\n",
       "dtype: object"
      ]
     },
     "execution_count": 33,
     "metadata": {},
     "output_type": "execute_result"
    }
   ],
   "source": [
    "df1.dtypes"
   ]
  },
  {
   "cell_type": "markdown",
   "id": "9de98dea",
   "metadata": {},
   "source": [
    "### 3.Converting columns to appropriate data types"
   ]
  },
  {
   "cell_type": "code",
   "execution_count": 34,
   "id": "eeb6a800",
   "metadata": {},
   "outputs": [],
   "source": [
    "# Converting datatype of columns 'children', 'company' and 'agent' from float to int.\n",
    "df1[['children', 'company', 'agent']] = df1[['children', 'company', 'agent']].astype('int64')\n"
   ]
  },
  {
   "cell_type": "code",
   "execution_count": 35,
   "id": "265100dd",
   "metadata": {},
   "outputs": [],
   "source": [
    "# changing datatype of column 'reservation_status_date' to data_type.\n",
    "df1['reservation_status_date'] = pd.to_datetime(df1['reservation_status_date'], format = '%Y-%m-%d')"
   ]
  },
  {
   "cell_type": "markdown",
   "id": "8882bcdd",
   "metadata": {},
   "source": [
    "### 4. Adding important columns"
   ]
  },
  {
   "cell_type": "code",
   "execution_count": 36,
   "id": "4ba9c6a9",
   "metadata": {},
   "outputs": [
    {
     "data": {
      "text/plain": [
       "0         0\n",
       "1         0\n",
       "2         1\n",
       "3         1\n",
       "4         2\n",
       "         ..\n",
       "119385    5\n",
       "119386    5\n",
       "119387    5\n",
       "119388    5\n",
       "119389    7\n",
       "Name: stays_in_week_nights, Length: 87230, dtype: int64"
      ]
     },
     "execution_count": 36,
     "metadata": {},
     "output_type": "execute_result"
    }
   ],
   "source": [
    "df1.stays_in_week_nights"
   ]
  },
  {
   "cell_type": "code",
   "execution_count": 37,
   "id": "2a062fb9",
   "metadata": {},
   "outputs": [
    {
     "data": {
      "text/plain": [
       "0         0\n",
       "1         0\n",
       "2         0\n",
       "3         0\n",
       "4         0\n",
       "         ..\n",
       "119385    2\n",
       "119386    2\n",
       "119387    2\n",
       "119388    2\n",
       "119389    2\n",
       "Name: stays_in_weekend_nights, Length: 87230, dtype: int64"
      ]
     },
     "execution_count": 37,
     "metadata": {},
     "output_type": "execute_result"
    }
   ],
   "source": [
    "df1.stays_in_weekend_nights"
   ]
  },
  {
   "cell_type": "code",
   "execution_count": 38,
   "id": "96db8c28",
   "metadata": {},
   "outputs": [],
   "source": [
    "# Adding total staying days in hotels\n",
    "df1[\"total_stay\"] = df1.stays_in_week_nights + df1.stays_in_weekend_nights"
   ]
  },
  {
   "cell_type": "code",
   "execution_count": 39,
   "id": "7df927ab",
   "metadata": {},
   "outputs": [
    {
     "data": {
      "text/html": [
       "<div>\n",
       "<style scoped>\n",
       "    .dataframe tbody tr th:only-of-type {\n",
       "        vertical-align: middle;\n",
       "    }\n",
       "\n",
       "    .dataframe tbody tr th {\n",
       "        vertical-align: top;\n",
       "    }\n",
       "\n",
       "    .dataframe thead th {\n",
       "        text-align: right;\n",
       "    }\n",
       "</style>\n",
       "<table border=\"1\" class=\"dataframe\">\n",
       "  <thead>\n",
       "    <tr style=\"text-align: right;\">\n",
       "      <th></th>\n",
       "      <th>hotel</th>\n",
       "      <th>is_canceled</th>\n",
       "      <th>lead_time</th>\n",
       "      <th>arrival_date_year</th>\n",
       "      <th>arrival_date_month</th>\n",
       "      <th>arrival_date_week_number</th>\n",
       "      <th>arrival_date_day_of_month</th>\n",
       "      <th>stays_in_weekend_nights</th>\n",
       "      <th>stays_in_week_nights</th>\n",
       "      <th>adults</th>\n",
       "      <th>...</th>\n",
       "      <th>agent</th>\n",
       "      <th>company</th>\n",
       "      <th>days_in_waiting_list</th>\n",
       "      <th>customer_type</th>\n",
       "      <th>adr</th>\n",
       "      <th>required_car_parking_spaces</th>\n",
       "      <th>total_of_special_requests</th>\n",
       "      <th>reservation_status</th>\n",
       "      <th>reservation_status_date</th>\n",
       "      <th>total_stay</th>\n",
       "    </tr>\n",
       "  </thead>\n",
       "  <tbody>\n",
       "    <tr>\n",
       "      <th>0</th>\n",
       "      <td>Resort Hotel</td>\n",
       "      <td>0</td>\n",
       "      <td>342</td>\n",
       "      <td>2015</td>\n",
       "      <td>July</td>\n",
       "      <td>27</td>\n",
       "      <td>1</td>\n",
       "      <td>0</td>\n",
       "      <td>0</td>\n",
       "      <td>2</td>\n",
       "      <td>...</td>\n",
       "      <td>0</td>\n",
       "      <td>0</td>\n",
       "      <td>0</td>\n",
       "      <td>Transient</td>\n",
       "      <td>0.0</td>\n",
       "      <td>0</td>\n",
       "      <td>0</td>\n",
       "      <td>Check-Out</td>\n",
       "      <td>2015-07-01</td>\n",
       "      <td>0</td>\n",
       "    </tr>\n",
       "    <tr>\n",
       "      <th>1</th>\n",
       "      <td>Resort Hotel</td>\n",
       "      <td>0</td>\n",
       "      <td>737</td>\n",
       "      <td>2015</td>\n",
       "      <td>July</td>\n",
       "      <td>27</td>\n",
       "      <td>1</td>\n",
       "      <td>0</td>\n",
       "      <td>0</td>\n",
       "      <td>2</td>\n",
       "      <td>...</td>\n",
       "      <td>0</td>\n",
       "      <td>0</td>\n",
       "      <td>0</td>\n",
       "      <td>Transient</td>\n",
       "      <td>0.0</td>\n",
       "      <td>0</td>\n",
       "      <td>0</td>\n",
       "      <td>Check-Out</td>\n",
       "      <td>2015-07-01</td>\n",
       "      <td>0</td>\n",
       "    </tr>\n",
       "    <tr>\n",
       "      <th>2</th>\n",
       "      <td>Resort Hotel</td>\n",
       "      <td>0</td>\n",
       "      <td>7</td>\n",
       "      <td>2015</td>\n",
       "      <td>July</td>\n",
       "      <td>27</td>\n",
       "      <td>1</td>\n",
       "      <td>0</td>\n",
       "      <td>1</td>\n",
       "      <td>1</td>\n",
       "      <td>...</td>\n",
       "      <td>0</td>\n",
       "      <td>0</td>\n",
       "      <td>0</td>\n",
       "      <td>Transient</td>\n",
       "      <td>75.0</td>\n",
       "      <td>0</td>\n",
       "      <td>0</td>\n",
       "      <td>Check-Out</td>\n",
       "      <td>2015-07-02</td>\n",
       "      <td>1</td>\n",
       "    </tr>\n",
       "    <tr>\n",
       "      <th>3</th>\n",
       "      <td>Resort Hotel</td>\n",
       "      <td>0</td>\n",
       "      <td>13</td>\n",
       "      <td>2015</td>\n",
       "      <td>July</td>\n",
       "      <td>27</td>\n",
       "      <td>1</td>\n",
       "      <td>0</td>\n",
       "      <td>1</td>\n",
       "      <td>1</td>\n",
       "      <td>...</td>\n",
       "      <td>304</td>\n",
       "      <td>0</td>\n",
       "      <td>0</td>\n",
       "      <td>Transient</td>\n",
       "      <td>75.0</td>\n",
       "      <td>0</td>\n",
       "      <td>0</td>\n",
       "      <td>Check-Out</td>\n",
       "      <td>2015-07-02</td>\n",
       "      <td>1</td>\n",
       "    </tr>\n",
       "    <tr>\n",
       "      <th>4</th>\n",
       "      <td>Resort Hotel</td>\n",
       "      <td>0</td>\n",
       "      <td>14</td>\n",
       "      <td>2015</td>\n",
       "      <td>July</td>\n",
       "      <td>27</td>\n",
       "      <td>1</td>\n",
       "      <td>0</td>\n",
       "      <td>2</td>\n",
       "      <td>2</td>\n",
       "      <td>...</td>\n",
       "      <td>240</td>\n",
       "      <td>0</td>\n",
       "      <td>0</td>\n",
       "      <td>Transient</td>\n",
       "      <td>98.0</td>\n",
       "      <td>0</td>\n",
       "      <td>1</td>\n",
       "      <td>Check-Out</td>\n",
       "      <td>2015-07-03</td>\n",
       "      <td>2</td>\n",
       "    </tr>\n",
       "  </tbody>\n",
       "</table>\n",
       "<p>5 rows × 33 columns</p>\n",
       "</div>"
      ],
      "text/plain": [
       "          hotel  is_canceled  lead_time  arrival_date_year arrival_date_month  \\\n",
       "0  Resort Hotel            0        342               2015               July   \n",
       "1  Resort Hotel            0        737               2015               July   \n",
       "2  Resort Hotel            0          7               2015               July   \n",
       "3  Resort Hotel            0         13               2015               July   \n",
       "4  Resort Hotel            0         14               2015               July   \n",
       "\n",
       "   arrival_date_week_number  arrival_date_day_of_month  \\\n",
       "0                        27                          1   \n",
       "1                        27                          1   \n",
       "2                        27                          1   \n",
       "3                        27                          1   \n",
       "4                        27                          1   \n",
       "\n",
       "   stays_in_weekend_nights  stays_in_week_nights  adults  ...  agent  company  \\\n",
       "0                        0                     0       2  ...      0        0   \n",
       "1                        0                     0       2  ...      0        0   \n",
       "2                        0                     1       1  ...      0        0   \n",
       "3                        0                     1       1  ...    304        0   \n",
       "4                        0                     2       2  ...    240        0   \n",
       "\n",
       "  days_in_waiting_list customer_type   adr required_car_parking_spaces  \\\n",
       "0                    0     Transient   0.0                           0   \n",
       "1                    0     Transient   0.0                           0   \n",
       "2                    0     Transient  75.0                           0   \n",
       "3                    0     Transient  75.0                           0   \n",
       "4                    0     Transient  98.0                           0   \n",
       "\n",
       "   total_of_special_requests  reservation_status  reservation_status_date  \\\n",
       "0                          0           Check-Out               2015-07-01   \n",
       "1                          0           Check-Out               2015-07-01   \n",
       "2                          0           Check-Out               2015-07-02   \n",
       "3                          0           Check-Out               2015-07-02   \n",
       "4                          1           Check-Out               2015-07-03   \n",
       "\n",
       "  total_stay  \n",
       "0          0  \n",
       "1          0  \n",
       "2          1  \n",
       "3          1  \n",
       "4          2  \n",
       "\n",
       "[5 rows x 33 columns]"
      ]
     },
     "execution_count": 39,
     "metadata": {},
     "output_type": "execute_result"
    }
   ],
   "source": [
    "df1.head()"
   ]
  },
  {
   "cell_type": "code",
   "execution_count": 40,
   "id": "327173df",
   "metadata": {},
   "outputs": [],
   "source": [
    "# Adding total people num as column, i.e. total people num = num of adults + children + babies\n",
    "df1[\"total_people\"] = (df1.adults + df1.babies + df1.children)"
   ]
  },
  {
   "cell_type": "code",
   "execution_count": 41,
   "id": "5c9f449c",
   "metadata": {},
   "outputs": [
    {
     "data": {
      "text/html": [
       "<div>\n",
       "<style scoped>\n",
       "    .dataframe tbody tr th:only-of-type {\n",
       "        vertical-align: middle;\n",
       "    }\n",
       "\n",
       "    .dataframe tbody tr th {\n",
       "        vertical-align: top;\n",
       "    }\n",
       "\n",
       "    .dataframe thead th {\n",
       "        text-align: right;\n",
       "    }\n",
       "</style>\n",
       "<table border=\"1\" class=\"dataframe\">\n",
       "  <thead>\n",
       "    <tr style=\"text-align: right;\">\n",
       "      <th></th>\n",
       "      <th>hotel</th>\n",
       "      <th>is_canceled</th>\n",
       "      <th>lead_time</th>\n",
       "      <th>arrival_date_year</th>\n",
       "      <th>arrival_date_month</th>\n",
       "      <th>arrival_date_week_number</th>\n",
       "      <th>arrival_date_day_of_month</th>\n",
       "      <th>stays_in_weekend_nights</th>\n",
       "      <th>stays_in_week_nights</th>\n",
       "      <th>adults</th>\n",
       "      <th>...</th>\n",
       "      <th>company</th>\n",
       "      <th>days_in_waiting_list</th>\n",
       "      <th>customer_type</th>\n",
       "      <th>adr</th>\n",
       "      <th>required_car_parking_spaces</th>\n",
       "      <th>total_of_special_requests</th>\n",
       "      <th>reservation_status</th>\n",
       "      <th>reservation_status_date</th>\n",
       "      <th>total_stay</th>\n",
       "      <th>total_people</th>\n",
       "    </tr>\n",
       "  </thead>\n",
       "  <tbody>\n",
       "    <tr>\n",
       "      <th>0</th>\n",
       "      <td>Resort Hotel</td>\n",
       "      <td>0</td>\n",
       "      <td>342</td>\n",
       "      <td>2015</td>\n",
       "      <td>July</td>\n",
       "      <td>27</td>\n",
       "      <td>1</td>\n",
       "      <td>0</td>\n",
       "      <td>0</td>\n",
       "      <td>2</td>\n",
       "      <td>...</td>\n",
       "      <td>0</td>\n",
       "      <td>0</td>\n",
       "      <td>Transient</td>\n",
       "      <td>0.00</td>\n",
       "      <td>0</td>\n",
       "      <td>0</td>\n",
       "      <td>Check-Out</td>\n",
       "      <td>2015-07-01</td>\n",
       "      <td>0</td>\n",
       "      <td>2</td>\n",
       "    </tr>\n",
       "    <tr>\n",
       "      <th>1</th>\n",
       "      <td>Resort Hotel</td>\n",
       "      <td>0</td>\n",
       "      <td>737</td>\n",
       "      <td>2015</td>\n",
       "      <td>July</td>\n",
       "      <td>27</td>\n",
       "      <td>1</td>\n",
       "      <td>0</td>\n",
       "      <td>0</td>\n",
       "      <td>2</td>\n",
       "      <td>...</td>\n",
       "      <td>0</td>\n",
       "      <td>0</td>\n",
       "      <td>Transient</td>\n",
       "      <td>0.00</td>\n",
       "      <td>0</td>\n",
       "      <td>0</td>\n",
       "      <td>Check-Out</td>\n",
       "      <td>2015-07-01</td>\n",
       "      <td>0</td>\n",
       "      <td>2</td>\n",
       "    </tr>\n",
       "    <tr>\n",
       "      <th>2</th>\n",
       "      <td>Resort Hotel</td>\n",
       "      <td>0</td>\n",
       "      <td>7</td>\n",
       "      <td>2015</td>\n",
       "      <td>July</td>\n",
       "      <td>27</td>\n",
       "      <td>1</td>\n",
       "      <td>0</td>\n",
       "      <td>1</td>\n",
       "      <td>1</td>\n",
       "      <td>...</td>\n",
       "      <td>0</td>\n",
       "      <td>0</td>\n",
       "      <td>Transient</td>\n",
       "      <td>75.00</td>\n",
       "      <td>0</td>\n",
       "      <td>0</td>\n",
       "      <td>Check-Out</td>\n",
       "      <td>2015-07-02</td>\n",
       "      <td>1</td>\n",
       "      <td>1</td>\n",
       "    </tr>\n",
       "    <tr>\n",
       "      <th>3</th>\n",
       "      <td>Resort Hotel</td>\n",
       "      <td>0</td>\n",
       "      <td>13</td>\n",
       "      <td>2015</td>\n",
       "      <td>July</td>\n",
       "      <td>27</td>\n",
       "      <td>1</td>\n",
       "      <td>0</td>\n",
       "      <td>1</td>\n",
       "      <td>1</td>\n",
       "      <td>...</td>\n",
       "      <td>0</td>\n",
       "      <td>0</td>\n",
       "      <td>Transient</td>\n",
       "      <td>75.00</td>\n",
       "      <td>0</td>\n",
       "      <td>0</td>\n",
       "      <td>Check-Out</td>\n",
       "      <td>2015-07-02</td>\n",
       "      <td>1</td>\n",
       "      <td>1</td>\n",
       "    </tr>\n",
       "    <tr>\n",
       "      <th>4</th>\n",
       "      <td>Resort Hotel</td>\n",
       "      <td>0</td>\n",
       "      <td>14</td>\n",
       "      <td>2015</td>\n",
       "      <td>July</td>\n",
       "      <td>27</td>\n",
       "      <td>1</td>\n",
       "      <td>0</td>\n",
       "      <td>2</td>\n",
       "      <td>2</td>\n",
       "      <td>...</td>\n",
       "      <td>0</td>\n",
       "      <td>0</td>\n",
       "      <td>Transient</td>\n",
       "      <td>98.00</td>\n",
       "      <td>0</td>\n",
       "      <td>1</td>\n",
       "      <td>Check-Out</td>\n",
       "      <td>2015-07-03</td>\n",
       "      <td>2</td>\n",
       "      <td>2</td>\n",
       "    </tr>\n",
       "    <tr>\n",
       "      <th>...</th>\n",
       "      <td>...</td>\n",
       "      <td>...</td>\n",
       "      <td>...</td>\n",
       "      <td>...</td>\n",
       "      <td>...</td>\n",
       "      <td>...</td>\n",
       "      <td>...</td>\n",
       "      <td>...</td>\n",
       "      <td>...</td>\n",
       "      <td>...</td>\n",
       "      <td>...</td>\n",
       "      <td>...</td>\n",
       "      <td>...</td>\n",
       "      <td>...</td>\n",
       "      <td>...</td>\n",
       "      <td>...</td>\n",
       "      <td>...</td>\n",
       "      <td>...</td>\n",
       "      <td>...</td>\n",
       "      <td>...</td>\n",
       "      <td>...</td>\n",
       "    </tr>\n",
       "    <tr>\n",
       "      <th>119385</th>\n",
       "      <td>City Hotel</td>\n",
       "      <td>0</td>\n",
       "      <td>23</td>\n",
       "      <td>2017</td>\n",
       "      <td>August</td>\n",
       "      <td>35</td>\n",
       "      <td>30</td>\n",
       "      <td>2</td>\n",
       "      <td>5</td>\n",
       "      <td>2</td>\n",
       "      <td>...</td>\n",
       "      <td>0</td>\n",
       "      <td>0</td>\n",
       "      <td>Transient</td>\n",
       "      <td>96.14</td>\n",
       "      <td>0</td>\n",
       "      <td>0</td>\n",
       "      <td>Check-Out</td>\n",
       "      <td>2017-09-06</td>\n",
       "      <td>7</td>\n",
       "      <td>2</td>\n",
       "    </tr>\n",
       "    <tr>\n",
       "      <th>119386</th>\n",
       "      <td>City Hotel</td>\n",
       "      <td>0</td>\n",
       "      <td>102</td>\n",
       "      <td>2017</td>\n",
       "      <td>August</td>\n",
       "      <td>35</td>\n",
       "      <td>31</td>\n",
       "      <td>2</td>\n",
       "      <td>5</td>\n",
       "      <td>3</td>\n",
       "      <td>...</td>\n",
       "      <td>0</td>\n",
       "      <td>0</td>\n",
       "      <td>Transient</td>\n",
       "      <td>225.43</td>\n",
       "      <td>0</td>\n",
       "      <td>2</td>\n",
       "      <td>Check-Out</td>\n",
       "      <td>2017-09-07</td>\n",
       "      <td>7</td>\n",
       "      <td>3</td>\n",
       "    </tr>\n",
       "    <tr>\n",
       "      <th>119387</th>\n",
       "      <td>City Hotel</td>\n",
       "      <td>0</td>\n",
       "      <td>34</td>\n",
       "      <td>2017</td>\n",
       "      <td>August</td>\n",
       "      <td>35</td>\n",
       "      <td>31</td>\n",
       "      <td>2</td>\n",
       "      <td>5</td>\n",
       "      <td>2</td>\n",
       "      <td>...</td>\n",
       "      <td>0</td>\n",
       "      <td>0</td>\n",
       "      <td>Transient</td>\n",
       "      <td>157.71</td>\n",
       "      <td>0</td>\n",
       "      <td>4</td>\n",
       "      <td>Check-Out</td>\n",
       "      <td>2017-09-07</td>\n",
       "      <td>7</td>\n",
       "      <td>2</td>\n",
       "    </tr>\n",
       "    <tr>\n",
       "      <th>119388</th>\n",
       "      <td>City Hotel</td>\n",
       "      <td>0</td>\n",
       "      <td>109</td>\n",
       "      <td>2017</td>\n",
       "      <td>August</td>\n",
       "      <td>35</td>\n",
       "      <td>31</td>\n",
       "      <td>2</td>\n",
       "      <td>5</td>\n",
       "      <td>2</td>\n",
       "      <td>...</td>\n",
       "      <td>0</td>\n",
       "      <td>0</td>\n",
       "      <td>Transient</td>\n",
       "      <td>104.40</td>\n",
       "      <td>0</td>\n",
       "      <td>0</td>\n",
       "      <td>Check-Out</td>\n",
       "      <td>2017-09-07</td>\n",
       "      <td>7</td>\n",
       "      <td>2</td>\n",
       "    </tr>\n",
       "    <tr>\n",
       "      <th>119389</th>\n",
       "      <td>City Hotel</td>\n",
       "      <td>0</td>\n",
       "      <td>205</td>\n",
       "      <td>2017</td>\n",
       "      <td>August</td>\n",
       "      <td>35</td>\n",
       "      <td>29</td>\n",
       "      <td>2</td>\n",
       "      <td>7</td>\n",
       "      <td>2</td>\n",
       "      <td>...</td>\n",
       "      <td>0</td>\n",
       "      <td>0</td>\n",
       "      <td>Transient</td>\n",
       "      <td>151.20</td>\n",
       "      <td>0</td>\n",
       "      <td>2</td>\n",
       "      <td>Check-Out</td>\n",
       "      <td>2017-09-07</td>\n",
       "      <td>9</td>\n",
       "      <td>2</td>\n",
       "    </tr>\n",
       "  </tbody>\n",
       "</table>\n",
       "<p>87230 rows × 34 columns</p>\n",
       "</div>"
      ],
      "text/plain": [
       "               hotel  is_canceled  lead_time  arrival_date_year  \\\n",
       "0       Resort Hotel            0        342               2015   \n",
       "1       Resort Hotel            0        737               2015   \n",
       "2       Resort Hotel            0          7               2015   \n",
       "3       Resort Hotel            0         13               2015   \n",
       "4       Resort Hotel            0         14               2015   \n",
       "...              ...          ...        ...                ...   \n",
       "119385    City Hotel            0         23               2017   \n",
       "119386    City Hotel            0        102               2017   \n",
       "119387    City Hotel            0         34               2017   \n",
       "119388    City Hotel            0        109               2017   \n",
       "119389    City Hotel            0        205               2017   \n",
       "\n",
       "       arrival_date_month  arrival_date_week_number  \\\n",
       "0                    July                        27   \n",
       "1                    July                        27   \n",
       "2                    July                        27   \n",
       "3                    July                        27   \n",
       "4                    July                        27   \n",
       "...                   ...                       ...   \n",
       "119385             August                        35   \n",
       "119386             August                        35   \n",
       "119387             August                        35   \n",
       "119388             August                        35   \n",
       "119389             August                        35   \n",
       "\n",
       "        arrival_date_day_of_month  stays_in_weekend_nights  \\\n",
       "0                               1                        0   \n",
       "1                               1                        0   \n",
       "2                               1                        0   \n",
       "3                               1                        0   \n",
       "4                               1                        0   \n",
       "...                           ...                      ...   \n",
       "119385                         30                        2   \n",
       "119386                         31                        2   \n",
       "119387                         31                        2   \n",
       "119388                         31                        2   \n",
       "119389                         29                        2   \n",
       "\n",
       "        stays_in_week_nights  adults  ...  company  days_in_waiting_list  \\\n",
       "0                          0       2  ...        0                     0   \n",
       "1                          0       2  ...        0                     0   \n",
       "2                          1       1  ...        0                     0   \n",
       "3                          1       1  ...        0                     0   \n",
       "4                          2       2  ...        0                     0   \n",
       "...                      ...     ...  ...      ...                   ...   \n",
       "119385                     5       2  ...        0                     0   \n",
       "119386                     5       3  ...        0                     0   \n",
       "119387                     5       2  ...        0                     0   \n",
       "119388                     5       2  ...        0                     0   \n",
       "119389                     7       2  ...        0                     0   \n",
       "\n",
       "       customer_type     adr required_car_parking_spaces  \\\n",
       "0          Transient    0.00                           0   \n",
       "1          Transient    0.00                           0   \n",
       "2          Transient   75.00                           0   \n",
       "3          Transient   75.00                           0   \n",
       "4          Transient   98.00                           0   \n",
       "...              ...     ...                         ...   \n",
       "119385     Transient   96.14                           0   \n",
       "119386     Transient  225.43                           0   \n",
       "119387     Transient  157.71                           0   \n",
       "119388     Transient  104.40                           0   \n",
       "119389     Transient  151.20                           0   \n",
       "\n",
       "       total_of_special_requests  reservation_status  reservation_status_date  \\\n",
       "0                              0           Check-Out               2015-07-01   \n",
       "1                              0           Check-Out               2015-07-01   \n",
       "2                              0           Check-Out               2015-07-02   \n",
       "3                              0           Check-Out               2015-07-02   \n",
       "4                              1           Check-Out               2015-07-03   \n",
       "...                          ...                 ...                      ...   \n",
       "119385                         0           Check-Out               2017-09-06   \n",
       "119386                         2           Check-Out               2017-09-07   \n",
       "119387                         4           Check-Out               2017-09-07   \n",
       "119388                         0           Check-Out               2017-09-07   \n",
       "119389                         2           Check-Out               2017-09-07   \n",
       "\n",
       "        total_stay total_people  \n",
       "0                0            2  \n",
       "1                0            2  \n",
       "2                1            1  \n",
       "3                1            1  \n",
       "4                2            2  \n",
       "...            ...          ...  \n",
       "119385           7            2  \n",
       "119386           7            3  \n",
       "119387           7            2  \n",
       "119388           7            2  \n",
       "119389           9            2  \n",
       "\n",
       "[87230 rows x 34 columns]"
      ]
     },
     "execution_count": 41,
     "metadata": {},
     "output_type": "execute_result"
    }
   ],
   "source": [
    "df1"
   ]
  },
  {
   "cell_type": "markdown",
   "id": "14779133",
   "metadata": {},
   "source": [
    "## 5.Exploratory Data Analysis"
   ]
  },
  {
   "cell_type": "code",
   "execution_count": 42,
   "id": "ab0e399a",
   "metadata": {},
   "outputs": [],
   "source": [
    "num_df1 = df1[['lead_time','previous_cancellations','previous_bookings_not_canceled','booking_changes','days_in_waiting_list','adr','required_car_parking_spaces','total_of_special_requests','total_stay','total_people']]"
   ]
  },
  {
   "cell_type": "code",
   "execution_count": 43,
   "id": "4e2a6fe7",
   "metadata": {},
   "outputs": [
    {
     "data": {
      "text/plain": [
       "<AxesSubplot:>"
      ]
     },
     "execution_count": 43,
     "metadata": {},
     "output_type": "execute_result"
    },
    {
     "data": {
      "image/png": "[encoded data removed]",
      "text/plain": [
       "<Figure size 2400x1400 with 2 Axes>"
      ]
     },
     "metadata": {
      "needs_background": "light"
     },
     "output_type": "display_data"
    }
   ],
   "source": [
    "plt.figure(figsize = (12,7), dpi = 200)\n",
    "sns.heatmap(num_df1.corr(), annot=True)"
   ]
  },
  {
   "cell_type": "markdown",
   "id": "d51be018",
   "metadata": {},
   "source": [
    "There is a slight relation between total_people and adr(average daily rate). This makes sense as mor no. of people means more revenue"
   ]
  },
  {
   "cell_type": "code",
   "execution_count": 44,
   "id": "a363f58c",
   "metadata": {},
   "outputs": [
    {
     "data": {
      "text/plain": [
       "<AxesSubplot:xlabel='total_stay', ylabel='adr'>"
      ]
     },
     "execution_count": 44,
     "metadata": {},
     "output_type": "execute_result"
    },
    {
     "data": {
      "image/png": "[encoded data removed]",
      "text/plain": [
       "<Figure size 1000x600 with 1 Axes>"
      ]
     },
     "metadata": {
      "needs_background": "light"
     },
     "output_type": "display_data"
    }
   ],
   "source": [
    "plt.figure(figsize=(10,6),dpi =100)\n",
    "sns.scatterplot(df1.total_stay,df1.adr)"
   ]
  },
  {
   "cell_type": "markdown",
   "id": "099761b5",
   "metadata": {},
   "source": [
    "Here we can see that there is an outlier. We have to remove it"
   ]
  },
  {
   "cell_type": "code",
   "execution_count": 45,
   "id": "8c96a495",
   "metadata": {},
   "outputs": [
    {
     "data": {
      "text/html": [
       "<div>\n",
       "<style scoped>\n",
       "    .dataframe tbody tr th:only-of-type {\n",
       "        vertical-align: middle;\n",
       "    }\n",
       "\n",
       "    .dataframe tbody tr th {\n",
       "        vertical-align: top;\n",
       "    }\n",
       "\n",
       "    .dataframe thead th {\n",
       "        text-align: right;\n",
       "    }\n",
       "</style>\n",
       "<table border=\"1\" class=\"dataframe\">\n",
       "  <thead>\n",
       "    <tr style=\"text-align: right;\">\n",
       "      <th></th>\n",
       "      <th>hotel</th>\n",
       "      <th>is_canceled</th>\n",
       "      <th>lead_time</th>\n",
       "      <th>arrival_date_year</th>\n",
       "      <th>arrival_date_month</th>\n",
       "      <th>arrival_date_week_number</th>\n",
       "      <th>arrival_date_day_of_month</th>\n",
       "      <th>stays_in_weekend_nights</th>\n",
       "      <th>stays_in_week_nights</th>\n",
       "      <th>adults</th>\n",
       "      <th>...</th>\n",
       "      <th>company</th>\n",
       "      <th>days_in_waiting_list</th>\n",
       "      <th>customer_type</th>\n",
       "      <th>adr</th>\n",
       "      <th>required_car_parking_spaces</th>\n",
       "      <th>total_of_special_requests</th>\n",
       "      <th>reservation_status</th>\n",
       "      <th>reservation_status_date</th>\n",
       "      <th>total_stay</th>\n",
       "      <th>total_people</th>\n",
       "    </tr>\n",
       "  </thead>\n",
       "  <tbody>\n",
       "    <tr>\n",
       "      <th>48515</th>\n",
       "      <td>City Hotel</td>\n",
       "      <td>1</td>\n",
       "      <td>35</td>\n",
       "      <td>2016</td>\n",
       "      <td>March</td>\n",
       "      <td>13</td>\n",
       "      <td>25</td>\n",
       "      <td>0</td>\n",
       "      <td>1</td>\n",
       "      <td>2</td>\n",
       "      <td>...</td>\n",
       "      <td>0</td>\n",
       "      <td>0</td>\n",
       "      <td>Transient</td>\n",
       "      <td>5400.0</td>\n",
       "      <td>0</td>\n",
       "      <td>0</td>\n",
       "      <td>Canceled</td>\n",
       "      <td>2016-02-19</td>\n",
       "      <td>1</td>\n",
       "      <td>2</td>\n",
       "    </tr>\n",
       "  </tbody>\n",
       "</table>\n",
       "<p>1 rows × 34 columns</p>\n",
       "</div>"
      ],
      "text/plain": [
       "            hotel  is_canceled  lead_time  arrival_date_year  \\\n",
       "48515  City Hotel            1         35               2016   \n",
       "\n",
       "      arrival_date_month  arrival_date_week_number  arrival_date_day_of_month  \\\n",
       "48515              March                        13                         25   \n",
       "\n",
       "       stays_in_weekend_nights  stays_in_week_nights  adults  ...  company  \\\n",
       "48515                        0                     1       2  ...        0   \n",
       "\n",
       "       days_in_waiting_list customer_type     adr required_car_parking_spaces  \\\n",
       "48515                     0     Transient  5400.0                           0   \n",
       "\n",
       "      total_of_special_requests  reservation_status  reservation_status_date  \\\n",
       "48515                         0            Canceled               2016-02-19   \n",
       "\n",
       "       total_stay total_people  \n",
       "48515           1            2  \n",
       "\n",
       "[1 rows x 34 columns]"
      ]
     },
     "execution_count": 45,
     "metadata": {},
     "output_type": "execute_result"
    }
   ],
   "source": [
    "df1[df1.adr > 5000]"
   ]
  },
  {
   "cell_type": "code",
   "execution_count": 46,
   "id": "58b0c8e0",
   "metadata": {},
   "outputs": [],
   "source": [
    "df1.drop(df1[df1.adr > 5000].index, inplace= True)"
   ]
  },
  {
   "cell_type": "code",
   "execution_count": 47,
   "id": "7ebbadbe",
   "metadata": {},
   "outputs": [
    {
     "data": {
      "text/plain": [
       "<AxesSubplot:xlabel='total_stay', ylabel='adr'>"
      ]
     },
     "execution_count": 47,
     "metadata": {},
     "output_type": "execute_result"
    },
    {
     "data": {
      "image/png": "[encoded data removed]",
      "text/plain": [
       "<Figure size 1000x600 with 1 Axes>"
      ]
     },
     "metadata": {
      "needs_background": "light"
     },
     "output_type": "display_data"
    }
   ],
   "source": [
    "plt.figure(figsize=(10,6),dpi =100)\n",
    "sns.scatterplot(df1.total_stay,df1.adr)"
   ]
  },
  {
   "cell_type": "markdown",
   "id": "a01234ac",
   "metadata": {},
   "source": [
    "From the scatter plot we can see that as length of tottal_stay increases the adr decreases. This means for longer stay, the better deal for customer can be finalised."
   ]
  },
  {
   "cell_type": "markdown",
   "id": "800e94d4",
   "metadata": {},
   "source": []
  },
  {
   "cell_type": "markdown",
   "id": "47d07938",
   "metadata": {},
   "source": [
    "Q1 Most no. of bookings by agent"
   ]
  },
  {
   "cell_type": "code",
   "execution_count": 48,
   "id": "3b070487",
   "metadata": {},
   "outputs": [],
   "source": [
    "def bar_plot(x,y):\n",
    "    plt.figure(figsize = (10,6), dpi =100)\n",
    "    return sns.barplot(x,y)"
   ]
  },
  {
   "cell_type": "code",
   "execution_count": 49,
   "id": "d8136d60",
   "metadata": {},
   "outputs": [
    {
     "data": {
      "text/plain": [
       "9      28721\n",
       "240    13028\n",
       "0      12141\n",
       "14      3342\n",
       "7       3294\n",
       "       ...  \n",
       "480        1\n",
       "289        1\n",
       "397        1\n",
       "70         1\n",
       "93         1\n",
       "Name: agent, Length: 334, dtype: int64"
      ]
     },
     "execution_count": 49,
     "metadata": {},
     "output_type": "execute_result"
    }
   ],
   "source": [
    "df1.agent.value_counts()"
   ]
  },
  {
   "cell_type": "code",
   "execution_count": 50,
   "id": "427626e5",
   "metadata": {},
   "outputs": [],
   "source": [
    "top_agents = pd.DataFrame(df1.agent.value_counts())\n"
   ]
  },
  {
   "cell_type": "code",
   "execution_count": 51,
   "id": "09437ee6",
   "metadata": {},
   "outputs": [
    {
     "data": {
      "text/plain": [
       "Int64Index([0], dtype='int64')"
      ]
     },
     "execution_count": 51,
     "metadata": {},
     "output_type": "execute_result"
    }
   ],
   "source": [
    "top_agents[top_agents.index == 0].index"
   ]
  },
  {
   "cell_type": "code",
   "execution_count": 52,
   "id": "05d1299a",
   "metadata": {},
   "outputs": [
    {
     "data": {
      "text/html": [
       "<div>\n",
       "<style scoped>\n",
       "    .dataframe tbody tr th:only-of-type {\n",
       "        vertical-align: middle;\n",
       "    }\n",
       "\n",
       "    .dataframe tbody tr th {\n",
       "        vertical-align: top;\n",
       "    }\n",
       "\n",
       "    .dataframe thead th {\n",
       "        text-align: right;\n",
       "    }\n",
       "</style>\n",
       "<table border=\"1\" class=\"dataframe\">\n",
       "  <thead>\n",
       "    <tr style=\"text-align: right;\">\n",
       "      <th></th>\n",
       "      <th>agent</th>\n",
       "    </tr>\n",
       "  </thead>\n",
       "  <tbody>\n",
       "    <tr>\n",
       "      <th>9</th>\n",
       "      <td>28721</td>\n",
       "    </tr>\n",
       "    <tr>\n",
       "      <th>240</th>\n",
       "      <td>13028</td>\n",
       "    </tr>\n",
       "    <tr>\n",
       "      <th>14</th>\n",
       "      <td>3342</td>\n",
       "    </tr>\n",
       "    <tr>\n",
       "      <th>7</th>\n",
       "      <td>3294</td>\n",
       "    </tr>\n",
       "    <tr>\n",
       "      <th>250</th>\n",
       "      <td>2779</td>\n",
       "    </tr>\n",
       "    <tr>\n",
       "      <th>241</th>\n",
       "      <td>1644</td>\n",
       "    </tr>\n",
       "    <tr>\n",
       "      <th>28</th>\n",
       "      <td>1493</td>\n",
       "    </tr>\n",
       "    <tr>\n",
       "      <th>8</th>\n",
       "      <td>1383</td>\n",
       "    </tr>\n",
       "    <tr>\n",
       "      <th>1</th>\n",
       "      <td>1228</td>\n",
       "    </tr>\n",
       "    <tr>\n",
       "      <th>6</th>\n",
       "      <td>1117</td>\n",
       "    </tr>\n",
       "  </tbody>\n",
       "</table>\n",
       "</div>"
      ],
      "text/plain": [
       "     agent\n",
       "9    28721\n",
       "240  13028\n",
       "14    3342\n",
       "7     3294\n",
       "250   2779\n",
       "241   1644\n",
       "28    1493\n",
       "8     1383\n",
       "1     1228\n",
       "6     1117"
      ]
     },
     "execution_count": 52,
     "metadata": {},
     "output_type": "execute_result"
    }
   ],
   "source": [
    "top_agents.drop(top_agents[top_agents.index == 0].index, inplace = True)\n",
    "top_agents = top_agents[:10]\n",
    "top_agents"
   ]
  },
  {
   "cell_type": "code",
   "execution_count": 53,
   "id": "222a50ac",
   "metadata": {},
   "outputs": [
    {
     "data": {
      "text/plain": [
       "<AxesSubplot:ylabel='agent'>"
      ]
     },
     "execution_count": 53,
     "metadata": {},
     "output_type": "execute_result"
    },
    {
     "data": {
      "image/png": "[encoded data removed]",
      "text/plain": [
       "<Figure size 1000x600 with 1 Axes>"
      ]
     },
     "metadata": {
      "needs_background": "light"
     },
     "output_type": "display_data"
    }
   ],
   "source": [
    "plt.figure(figsize = (10,6), dpi =100)\n",
    "sns.barplot(top_agents.agent.index,top_agents.agent)"
   ]
  },
  {
   "cell_type": "markdown",
   "id": "e8365ce1",
   "metadata": {},
   "source": [
    "Which room type is in most demand and which room type generates the  highest adr?"
   ]
  },
  {
   "cell_type": "code",
   "execution_count": 54,
   "id": "a1b30814",
   "metadata": {},
   "outputs": [
    {
     "data": {
      "text/html": [
       "<div>\n",
       "<style scoped>\n",
       "    .dataframe tbody tr th:only-of-type {\n",
       "        vertical-align: middle;\n",
       "    }\n",
       "\n",
       "    .dataframe tbody tr th {\n",
       "        vertical-align: top;\n",
       "    }\n",
       "\n",
       "    .dataframe thead th {\n",
       "        text-align: right;\n",
       "    }\n",
       "</style>\n",
       "<table border=\"1\" class=\"dataframe\">\n",
       "  <thead>\n",
       "    <tr style=\"text-align: right;\">\n",
       "      <th></th>\n",
       "      <th>hotel</th>\n",
       "      <th>is_canceled</th>\n",
       "      <th>lead_time</th>\n",
       "      <th>arrival_date_year</th>\n",
       "      <th>arrival_date_month</th>\n",
       "      <th>arrival_date_week_number</th>\n",
       "      <th>arrival_date_day_of_month</th>\n",
       "      <th>stays_in_weekend_nights</th>\n",
       "      <th>stays_in_week_nights</th>\n",
       "      <th>adults</th>\n",
       "      <th>...</th>\n",
       "      <th>company</th>\n",
       "      <th>days_in_waiting_list</th>\n",
       "      <th>customer_type</th>\n",
       "      <th>adr</th>\n",
       "      <th>required_car_parking_spaces</th>\n",
       "      <th>total_of_special_requests</th>\n",
       "      <th>reservation_status</th>\n",
       "      <th>reservation_status_date</th>\n",
       "      <th>total_stay</th>\n",
       "      <th>total_people</th>\n",
       "    </tr>\n",
       "  </thead>\n",
       "  <tbody>\n",
       "    <tr>\n",
       "      <th>0</th>\n",
       "      <td>Resort Hotel</td>\n",
       "      <td>0</td>\n",
       "      <td>342</td>\n",
       "      <td>2015</td>\n",
       "      <td>July</td>\n",
       "      <td>27</td>\n",
       "      <td>1</td>\n",
       "      <td>0</td>\n",
       "      <td>0</td>\n",
       "      <td>2</td>\n",
       "      <td>...</td>\n",
       "      <td>0</td>\n",
       "      <td>0</td>\n",
       "      <td>Transient</td>\n",
       "      <td>0.0</td>\n",
       "      <td>0</td>\n",
       "      <td>0</td>\n",
       "      <td>Check-Out</td>\n",
       "      <td>2015-07-01</td>\n",
       "      <td>0</td>\n",
       "      <td>2</td>\n",
       "    </tr>\n",
       "    <tr>\n",
       "      <th>1</th>\n",
       "      <td>Resort Hotel</td>\n",
       "      <td>0</td>\n",
       "      <td>737</td>\n",
       "      <td>2015</td>\n",
       "      <td>July</td>\n",
       "      <td>27</td>\n",
       "      <td>1</td>\n",
       "      <td>0</td>\n",
       "      <td>0</td>\n",
       "      <td>2</td>\n",
       "      <td>...</td>\n",
       "      <td>0</td>\n",
       "      <td>0</td>\n",
       "      <td>Transient</td>\n",
       "      <td>0.0</td>\n",
       "      <td>0</td>\n",
       "      <td>0</td>\n",
       "      <td>Check-Out</td>\n",
       "      <td>2015-07-01</td>\n",
       "      <td>0</td>\n",
       "      <td>2</td>\n",
       "    </tr>\n",
       "    <tr>\n",
       "      <th>2</th>\n",
       "      <td>Resort Hotel</td>\n",
       "      <td>0</td>\n",
       "      <td>7</td>\n",
       "      <td>2015</td>\n",
       "      <td>July</td>\n",
       "      <td>27</td>\n",
       "      <td>1</td>\n",
       "      <td>0</td>\n",
       "      <td>1</td>\n",
       "      <td>1</td>\n",
       "      <td>...</td>\n",
       "      <td>0</td>\n",
       "      <td>0</td>\n",
       "      <td>Transient</td>\n",
       "      <td>75.0</td>\n",
       "      <td>0</td>\n",
       "      <td>0</td>\n",
       "      <td>Check-Out</td>\n",
       "      <td>2015-07-02</td>\n",
       "      <td>1</td>\n",
       "      <td>1</td>\n",
       "    </tr>\n",
       "    <tr>\n",
       "      <th>3</th>\n",
       "      <td>Resort Hotel</td>\n",
       "      <td>0</td>\n",
       "      <td>13</td>\n",
       "      <td>2015</td>\n",
       "      <td>July</td>\n",
       "      <td>27</td>\n",
       "      <td>1</td>\n",
       "      <td>0</td>\n",
       "      <td>1</td>\n",
       "      <td>1</td>\n",
       "      <td>...</td>\n",
       "      <td>0</td>\n",
       "      <td>0</td>\n",
       "      <td>Transient</td>\n",
       "      <td>75.0</td>\n",
       "      <td>0</td>\n",
       "      <td>0</td>\n",
       "      <td>Check-Out</td>\n",
       "      <td>2015-07-02</td>\n",
       "      <td>1</td>\n",
       "      <td>1</td>\n",
       "    </tr>\n",
       "    <tr>\n",
       "      <th>4</th>\n",
       "      <td>Resort Hotel</td>\n",
       "      <td>0</td>\n",
       "      <td>14</td>\n",
       "      <td>2015</td>\n",
       "      <td>July</td>\n",
       "      <td>27</td>\n",
       "      <td>1</td>\n",
       "      <td>0</td>\n",
       "      <td>2</td>\n",
       "      <td>2</td>\n",
       "      <td>...</td>\n",
       "      <td>0</td>\n",
       "      <td>0</td>\n",
       "      <td>Transient</td>\n",
       "      <td>98.0</td>\n",
       "      <td>0</td>\n",
       "      <td>1</td>\n",
       "      <td>Check-Out</td>\n",
       "      <td>2015-07-03</td>\n",
       "      <td>2</td>\n",
       "      <td>2</td>\n",
       "    </tr>\n",
       "  </tbody>\n",
       "</table>\n",
       "<p>5 rows × 34 columns</p>\n",
       "</div>"
      ],
      "text/plain": [
       "          hotel  is_canceled  lead_time  arrival_date_year arrival_date_month  \\\n",
       "0  Resort Hotel            0        342               2015               July   \n",
       "1  Resort Hotel            0        737               2015               July   \n",
       "2  Resort Hotel            0          7               2015               July   \n",
       "3  Resort Hotel            0         13               2015               July   \n",
       "4  Resort Hotel            0         14               2015               July   \n",
       "\n",
       "   arrival_date_week_number  arrival_date_day_of_month  \\\n",
       "0                        27                          1   \n",
       "1                        27                          1   \n",
       "2                        27                          1   \n",
       "3                        27                          1   \n",
       "4                        27                          1   \n",
       "\n",
       "   stays_in_weekend_nights  stays_in_week_nights  adults  ...  company  \\\n",
       "0                        0                     0       2  ...        0   \n",
       "1                        0                     0       2  ...        0   \n",
       "2                        0                     1       1  ...        0   \n",
       "3                        0                     1       1  ...        0   \n",
       "4                        0                     2       2  ...        0   \n",
       "\n",
       "   days_in_waiting_list customer_type   adr required_car_parking_spaces  \\\n",
       "0                     0     Transient   0.0                           0   \n",
       "1                     0     Transient   0.0                           0   \n",
       "2                     0     Transient  75.0                           0   \n",
       "3                     0     Transient  75.0                           0   \n",
       "4                     0     Transient  98.0                           0   \n",
       "\n",
       "  total_of_special_requests  reservation_status  reservation_status_date  \\\n",
       "0                         0           Check-Out               2015-07-01   \n",
       "1                         0           Check-Out               2015-07-01   \n",
       "2                         0           Check-Out               2015-07-02   \n",
       "3                         0           Check-Out               2015-07-02   \n",
       "4                         1           Check-Out               2015-07-03   \n",
       "\n",
       "   total_stay total_people  \n",
       "0           0            2  \n",
       "1           0            2  \n",
       "2           1            1  \n",
       "3           1            1  \n",
       "4           2            2  \n",
       "\n",
       "[5 rows x 34 columns]"
      ]
     },
     "execution_count": 54,
     "metadata": {},
     "output_type": "execute_result"
    }
   ],
   "source": [
    "df1.head()"
   ]
  },
  {
   "cell_type": "code",
   "execution_count": 55,
   "id": "e381b1eb",
   "metadata": {},
   "outputs": [
    {
     "data": {
      "text/plain": [
       "A    46282\n",
       "D    22419\n",
       "E     7190\n",
       "F     3627\n",
       "G     2495\n",
       "C     2160\n",
       "B     1811\n",
       "H      706\n",
       "I      353\n",
       "K      185\n",
       "L        1\n",
       "Name: assigned_room_type, dtype: int64"
      ]
     },
     "execution_count": 55,
     "metadata": {},
     "output_type": "execute_result"
    }
   ],
   "source": [
    "top_room  = df1.assigned_room_type.value_counts()\n",
    "top_room"
   ]
  },
  {
   "cell_type": "code",
   "execution_count": 56,
   "id": "dc1c46ca",
   "metadata": {},
   "outputs": [
    {
     "data": {
      "text/plain": [
       "<AxesSubplot:ylabel='assigned_room_type'>"
      ]
     },
     "execution_count": 56,
     "metadata": {},
     "output_type": "execute_result"
    },
    {
     "data": {
      "image/png": "[encoded data removed]",
      "text/plain": [
       "<Figure size 1000x600 with 1 Axes>"
      ]
     },
     "metadata": {
      "needs_background": "light"
     },
     "output_type": "display_data"
    }
   ],
   "source": [
    "bar_plot(top_room.index,top_room)"
   ]
  },
  {
   "cell_type": "code",
   "execution_count": 57,
   "id": "8ef17187",
   "metadata": {},
   "outputs": [
    {
     "data": {
      "text/plain": [
       "<AxesSubplot:xlabel='assigned_room_type', ylabel='adr'>"
      ]
     },
     "execution_count": 57,
     "metadata": {},
     "output_type": "execute_result"
    },
    {
     "data": {
      "image/png": "[encoded data removed]",
      "text/plain": [
       "<Figure size 1000x600 with 1 Axes>"
      ]
     },
     "metadata": {
      "needs_background": "light"
     },
     "output_type": "display_data"
    }
   ],
   "source": [
    "plt.figure(figsize = (10,6), dpi =100)\n",
    "sns.boxplot(df1.assigned_room_type,df1.adr)"
   ]
  },
  {
   "cell_type": "markdown",
   "id": "e954f10f",
   "metadata": {},
   "source": [
    "Most demanded room type is A, but better adr rooms are of type H, G and C also. Hotels should increase the no. of room types A and H to maximise revenue."
   ]
  },
  {
   "cell_type": "markdown",
   "id": "30198fc6",
   "metadata": {},
   "source": [
    "Q3) Which meal type isthe  most prefered meal of customers?"
   ]
  },
  {
   "cell_type": "code",
   "execution_count": 58,
   "id": "dea90a17",
   "metadata": {},
   "outputs": [
    {
     "data": {
      "text/plain": [
       "BB           67906\n",
       "SC            9391\n",
       "HB            9080\n",
       "Undefined      492\n",
       "FB             360\n",
       "Name: meal, dtype: int64"
      ]
     },
     "execution_count": 58,
     "metadata": {},
     "output_type": "execute_result"
    }
   ],
   "source": [
    "meal = df1.meal.value_counts()\n",
    "meal"
   ]
  },
  {
   "cell_type": "code",
   "execution_count": 59,
   "id": "b7e64650",
   "metadata": {},
   "outputs": [
    {
     "data": {
      "text/plain": [
       "<AxesSubplot:ylabel='meal'>"
      ]
     },
     "execution_count": 59,
     "metadata": {},
     "output_type": "execute_result"
    },
    {
     "data": {
      "image/png": "[encoded data removed]",
      "text/plain": [
       "<Figure size 1000x600 with 1 Axes>"
      ]
     },
     "metadata": {
      "needs_background": "light"
     },
     "output_type": "display_data"
    }
   ],
   "source": [
    "bar_plot(meal.index,meal)"
   ]
  },
  {
   "cell_type": "markdown",
   "id": "508321d5",
   "metadata": {},
   "source": [
    "Most preferred meal type is BB (Bed and breakfast)."
   ]
  },
  {
   "cell_type": "markdown",
   "id": "554f799b",
   "metadata": {},
   "source": [
    "Q4) What is the  percentage of bookings in each hotel?\n"
   ]
  },
  {
   "cell_type": "code",
   "execution_count": 60,
   "id": "c4701ba5",
   "metadata": {},
   "outputs": [
    {
     "data": {
      "text/plain": [
       "City Hotel      61.072579\n",
       "Resort Hotel    38.927421\n",
       "Name: hotel, dtype: float64"
      ]
     },
     "execution_count": 60,
     "metadata": {},
     "output_type": "execute_result"
    }
   ],
   "source": [
    "perc_bookings  = df1.hotel.value_counts()/len(df1) * 100\n",
    "perc_bookings"
   ]
  },
  {
   "cell_type": "code",
   "execution_count": 61,
   "id": "580a3de0",
   "metadata": {},
   "outputs": [
    {
     "data": {
      "text/plain": [
       "<AxesSubplot:ylabel='hotel'>"
      ]
     },
     "execution_count": 61,
     "metadata": {},
     "output_type": "execute_result"
    },
    {
     "data": {
      "image/png": "[encoded data removed]",
      "text/plain": [
       "<Figure size 1000x600 with 1 Axes>"
      ]
     },
     "metadata": {
      "needs_background": "light"
     },
     "output_type": "display_data"
    }
   ],
   "source": [
    "bar_plot(perc_bookings.index,perc_bookings)"
   ]
  },
  {
   "cell_type": "markdown",
   "id": "27af9ba1",
   "metadata": {},
   "source": [
    "Q5) Which is the most common channel for booking hotels?"
   ]
  },
  {
   "cell_type": "code",
   "execution_count": 62,
   "id": "a3a20a26",
   "metadata": {},
   "outputs": [
    {
     "data": {
      "text/plain": [
       "TA/TO        69027\n",
       "Direct       12954\n",
       "Corporate     5062\n",
       "GDS            181\n",
       "Undefined        5\n",
       "Name: distribution_channel, dtype: int64"
      ]
     },
     "execution_count": 62,
     "metadata": {},
     "output_type": "execute_result"
    }
   ],
   "source": [
    "top_channel = df1.distribution_channel.value_counts()\n",
    "top_channel"
   ]
  },
  {
   "cell_type": "code",
   "execution_count": 63,
   "id": "5737f72e",
   "metadata": {},
   "outputs": [
    {
     "data": {
      "text/plain": [
       "<AxesSubplot:ylabel='distribution_channel'>"
      ]
     },
     "execution_count": 63,
     "metadata": {},
     "output_type": "execute_result"
    },
    {
     "data": {
      "image/png": "[encoded data removed]",
      "text/plain": [
       "<Figure size 1000x600 with 1 Axes>"
      ]
     },
     "metadata": {
      "needs_background": "light"
     },
     "output_type": "display_data"
    }
   ],
   "source": [
    "bar_plot(top_channel.index,top_channel)"
   ]
  },
  {
   "cell_type": "markdown",
   "id": "3e32546e",
   "metadata": {},
   "source": [
    "Q6) Which are the most busy months?"
   ]
  },
  {
   "cell_type": "code",
   "execution_count": 64,
   "id": "582f6844",
   "metadata": {},
   "outputs": [
    {
     "data": {
      "text/plain": [
       "August       11242\n",
       "July         10043\n",
       "May           8344\n",
       "April         7900\n",
       "June          7756\n",
       "March         7488\n",
       "October       6921\n",
       "September     6682\n",
       "February      6083\n",
       "December      5112\n",
       "November      4973\n",
       "January       4685\n",
       "Name: arrival_date_month, dtype: int64"
      ]
     },
     "execution_count": 64,
     "metadata": {},
     "output_type": "execute_result"
    }
   ],
   "source": [
    "busy_months = df1.arrival_date_month.value_counts()\n",
    "busy_months"
   ]
  },
  {
   "cell_type": "code",
   "execution_count": 65,
   "id": "86c8cffc",
   "metadata": {},
   "outputs": [
    {
     "data": {
      "text/plain": [
       "<AxesSubplot:ylabel='arrival_date_month'>"
      ]
     },
     "execution_count": 65,
     "metadata": {},
     "output_type": "execute_result"
    },
    {
     "data": {
      "image/png": "[encoded data removed]",
      "text/plain": [
       "<Figure size 1000x600 with 1 Axes>"
      ]
     },
     "metadata": {
      "needs_background": "light"
     },
     "output_type": "display_data"
    }
   ],
   "source": [
    "\n",
    "bar_plot(busy_months.index,busy_months)"
   ]
  },
  {
   "cell_type": "markdown",
   "id": "f2665550",
   "metadata": {},
   "source": [
    "Q7) From which country most of the guests are comin ?"
   ]
  },
  {
   "cell_type": "code",
   "execution_count": 66,
   "id": "f1e81653",
   "metadata": {},
   "outputs": [
    {
     "data": {
      "text/plain": [
       "PRT    27354\n",
       "GBR    10424\n",
       "FRA     8823\n",
       "ESP     7244\n",
       "DEU     5385\n",
       "ITA     3061\n",
       "IRL     3015\n",
       "BEL     2081\n",
       "BRA     1993\n",
       "NLD     1910\n",
       "Name: country, dtype: int64"
      ]
     },
     "execution_count": 66,
     "metadata": {},
     "output_type": "execute_result"
    }
   ],
   "source": [
    "top_country = df1.country.value_counts()[:10]\n",
    "top_country"
   ]
  },
  {
   "cell_type": "code",
   "execution_count": 67,
   "id": "a3d5c7da",
   "metadata": {},
   "outputs": [
    {
     "data": {
      "text/plain": [
       "<AxesSubplot:ylabel='country'>"
      ]
     },
     "execution_count": 67,
     "metadata": {},
     "output_type": "execute_result"
    },
    {
     "data": {
      "image/png": "[encoded data removed]",
      "text/plain": [
       "<Figure size 1000x600 with 1 Axes>"
      ]
     },
     "metadata": {
      "needs_background": "light"
     },
     "output_type": "display_data"
    }
   ],
   "source": [
    "bar_plot(top_country.index,top_country)"
   ]
  },
  {
   "cell_type": "markdown",
   "id": "8a74da73",
   "metadata": {},
   "source": [
    "Q8) How long do people stay at the hotels?"
   ]
  },
  {
   "cell_type": "code",
   "execution_count": 68,
   "id": "0ee66814",
   "metadata": {},
   "outputs": [
    {
     "data": {
      "text/plain": [
       "3     17827\n",
       "1     17168\n",
       "2     15734\n",
       "4     13565\n",
       "7      7520\n",
       "5      6729\n",
       "6      3263\n",
       "10     1072\n",
       "8      1062\n",
       "14      859\n",
       "Name: total_stay, dtype: int64"
      ]
     },
     "execution_count": 68,
     "metadata": {},
     "output_type": "execute_result"
    }
   ],
   "source": [
    "stay = df1.total_stay.value_counts()[:10]\n",
    "stay"
   ]
  },
  {
   "cell_type": "code",
   "execution_count": 69,
   "id": "bf86b5dd",
   "metadata": {},
   "outputs": [
    {
     "data": {
      "text/plain": [
       "<AxesSubplot:ylabel='total_stay'>"
      ]
     },
     "execution_count": 69,
     "metadata": {},
     "output_type": "execute_result"
    },
    {
     "data": {
      "image/png": "[encoded data removed]",
      "text/plain": [
       "<Figure size 1000x600 with 1 Axes>"
      ]
     },
     "metadata": {
      "needs_background": "light"
     },
     "output_type": "display_data"
    }
   ],
   "source": [
    "bar_plot(stay.index,stay)"
   ]
  },
  {
   "cell_type": "markdown",
   "id": "f65276fd",
   "metadata": {},
   "source": [
    "Q9)  Which hotel seems to make more revenue?"
   ]
  },
  {
   "cell_type": "code",
   "execution_count": 70,
   "id": "43515fad",
   "metadata": {},
   "outputs": [
    {
     "data": {
      "text/plain": [
       "hotel\n",
       "City Hotel      111.172693\n",
       "Resort Hotel     99.059517\n",
       "Name: adr, dtype: float64"
      ]
     },
     "execution_count": 70,
     "metadata": {},
     "output_type": "execute_result"
    }
   ],
   "source": [
    "hotel  = df1.groupby(\"hotel\").mean().adr\n",
    "hotel"
   ]
  },
  {
   "cell_type": "code",
   "execution_count": 71,
   "id": "587905b8",
   "metadata": {},
   "outputs": [
    {
     "data": {
      "text/plain": [
       "<AxesSubplot:xlabel='hotel', ylabel='adr'>"
      ]
     },
     "execution_count": 71,
     "metadata": {},
     "output_type": "execute_result"
    },
    {
     "data": {
      "image/png": "[encoded data removed]",
      "text/plain": [
       "<Figure size 1000x600 with 1 Axes>"
      ]
     },
     "metadata": {
      "needs_background": "light"
     },
     "output_type": "display_data"
    }
   ],
   "source": [
    "bar_plot(hotel.index, hotel)"
   ]
  },
  {
   "cell_type": "markdown",
   "id": "f933ba1d",
   "metadata": {},
   "source": [
    "Avg adr of Resort hotel is slightly lower than that of City hotel. Hence, City hotel seems to be making slightly more revenue."
   ]
  },
  {
   "cell_type": "markdown",
   "id": "ec0f6b02",
   "metadata": {},
   "source": [
    "Q10)  Which hotel has a  higher lead time?"
   ]
  },
  {
   "cell_type": "code",
   "execution_count": 72,
   "id": "c73d14f2",
   "metadata": {},
   "outputs": [
    {
     "data": {
      "text/plain": [
       "hotel\n",
       "City Hotel      51\n",
       "Resort Hotel    47\n",
       "Name: lead_time, dtype: int64"
      ]
     },
     "execution_count": 72,
     "metadata": {},
     "output_type": "execute_result"
    }
   ],
   "source": [
    "leadtime = df1.groupby(\"hotel\").median().lead_time\n",
    "leadtime"
   ]
  },
  {
   "cell_type": "code",
   "execution_count": 73,
   "id": "fe449975",
   "metadata": {},
   "outputs": [
    {
     "data": {
      "text/plain": [
       "<AxesSubplot:xlabel='hotel', ylabel='lead_time'>"
      ]
     },
     "execution_count": 73,
     "metadata": {},
     "output_type": "execute_result"
    },
    {
     "data": {
      "image/png": "[encoded data removed]",
      "text/plain": [
       "<Figure size 1000x600 with 1 Axes>"
      ]
     },
     "metadata": {
      "needs_background": "light"
     },
     "output_type": "display_data"
    }
   ],
   "source": [
    "bar_plot(leadtime.index,leadtime)"
   ]
  },
  {
   "cell_type": "markdown",
   "id": "65710ca0",
   "metadata": {},
   "source": [
    "City hotel has slightly higher median lead time. Also median lead time is significantly higher in each case, this means customers generally plan their hotel visits way to early."
   ]
  },
  {
   "cell_type": "markdown",
   "id": "ddf8604f",
   "metadata": {},
   "source": [
    "Q11)  What is preferred stay length in each hotel?"
   ]
  },
  {
   "cell_type": "code",
   "execution_count": 74,
   "id": "413e7eb3",
   "metadata": {},
   "outputs": [],
   "source": [
    "not_cancelled = df1[df1.is_canceled == 0]\n",
    "s1 = not_cancelled[not_cancelled.total_stay < 15]"
   ]
  },
  {
   "cell_type": "code",
   "execution_count": 75,
   "id": "c1521ebf",
   "metadata": {},
   "outputs": [
    {
     "data": {
      "text/plain": [
       "<AxesSubplot:xlabel='total_stay', ylabel='count'>"
      ]
     },
     "execution_count": 75,
     "metadata": {},
     "output_type": "execute_result"
    },
    {
     "data": {
      "image/png": "[encoded data removed]",
      "text/plain": [
       "<Figure size 432x288 with 1 Axes>"
      ]
     },
     "metadata": {
      "needs_background": "light"
     },
     "output_type": "display_data"
    }
   ],
   "source": [
    "sns.countplot(s1.total_stay, hue = s1.hotel)"
   ]
  },
  {
   "cell_type": "markdown",
   "id": "975d6b7c",
   "metadata": {},
   "source": [
    "Most common stay length is less than 4 days and generally people prefer City hotel for short stay, but for long stays, Resort Hotel is preferred."
   ]
  },
  {
   "cell_type": "markdown",
   "id": "7b0d1eb9",
   "metadata": {},
   "source": [
    "Q12)  Which hotel has higher bookings cancellation rate."
   ]
  },
  {
   "cell_type": "code",
   "execution_count": 76,
   "id": "8b2ea297",
   "metadata": {},
   "outputs": [
    {
     "data": {
      "text/html": [
       "<div>\n",
       "<style scoped>\n",
       "    .dataframe tbody tr th:only-of-type {\n",
       "        vertical-align: middle;\n",
       "    }\n",
       "\n",
       "    .dataframe tbody tr th {\n",
       "        vertical-align: top;\n",
       "    }\n",
       "\n",
       "    .dataframe thead th {\n",
       "        text-align: right;\n",
       "    }\n",
       "</style>\n",
       "<table border=\"1\" class=\"dataframe\">\n",
       "  <thead>\n",
       "    <tr style=\"text-align: right;\">\n",
       "      <th></th>\n",
       "      <th></th>\n",
       "      <th>lead_time</th>\n",
       "      <th>arrival_date_year</th>\n",
       "      <th>arrival_date_month</th>\n",
       "      <th>arrival_date_week_number</th>\n",
       "      <th>arrival_date_day_of_month</th>\n",
       "      <th>stays_in_weekend_nights</th>\n",
       "      <th>stays_in_week_nights</th>\n",
       "      <th>adults</th>\n",
       "      <th>children</th>\n",
       "      <th>babies</th>\n",
       "      <th>...</th>\n",
       "      <th>company</th>\n",
       "      <th>days_in_waiting_list</th>\n",
       "      <th>customer_type</th>\n",
       "      <th>adr</th>\n",
       "      <th>required_car_parking_spaces</th>\n",
       "      <th>total_of_special_requests</th>\n",
       "      <th>reservation_status</th>\n",
       "      <th>reservation_status_date</th>\n",
       "      <th>total_stay</th>\n",
       "      <th>total_people</th>\n",
       "    </tr>\n",
       "    <tr>\n",
       "      <th>hotel</th>\n",
       "      <th>is_canceled</th>\n",
       "      <th></th>\n",
       "      <th></th>\n",
       "      <th></th>\n",
       "      <th></th>\n",
       "      <th></th>\n",
       "      <th></th>\n",
       "      <th></th>\n",
       "      <th></th>\n",
       "      <th></th>\n",
       "      <th></th>\n",
       "      <th></th>\n",
       "      <th></th>\n",
       "      <th></th>\n",
       "      <th></th>\n",
       "      <th></th>\n",
       "      <th></th>\n",
       "      <th></th>\n",
       "      <th></th>\n",
       "      <th></th>\n",
       "      <th></th>\n",
       "      <th></th>\n",
       "    </tr>\n",
       "  </thead>\n",
       "  <tbody>\n",
       "    <tr>\n",
       "      <th rowspan=\"2\" valign=\"top\">City Hotel</th>\n",
       "      <th>0</th>\n",
       "      <td>37239</td>\n",
       "      <td>37239</td>\n",
       "      <td>37239</td>\n",
       "      <td>37239</td>\n",
       "      <td>37239</td>\n",
       "      <td>37239</td>\n",
       "      <td>37239</td>\n",
       "      <td>37239</td>\n",
       "      <td>37239</td>\n",
       "      <td>37239</td>\n",
       "      <td>...</td>\n",
       "      <td>37239</td>\n",
       "      <td>37239</td>\n",
       "      <td>37239</td>\n",
       "      <td>37239</td>\n",
       "      <td>37239</td>\n",
       "      <td>37239</td>\n",
       "      <td>37239</td>\n",
       "      <td>37239</td>\n",
       "      <td>37239</td>\n",
       "      <td>37239</td>\n",
       "    </tr>\n",
       "    <tr>\n",
       "      <th>1</th>\n",
       "      <td>16034</td>\n",
       "      <td>16034</td>\n",
       "      <td>16034</td>\n",
       "      <td>16034</td>\n",
       "      <td>16034</td>\n",
       "      <td>16034</td>\n",
       "      <td>16034</td>\n",
       "      <td>16034</td>\n",
       "      <td>16034</td>\n",
       "      <td>16034</td>\n",
       "      <td>...</td>\n",
       "      <td>16034</td>\n",
       "      <td>16034</td>\n",
       "      <td>16034</td>\n",
       "      <td>16034</td>\n",
       "      <td>16034</td>\n",
       "      <td>16034</td>\n",
       "      <td>16034</td>\n",
       "      <td>16034</td>\n",
       "      <td>16034</td>\n",
       "      <td>16034</td>\n",
       "    </tr>\n",
       "    <tr>\n",
       "      <th rowspan=\"2\" valign=\"top\">Resort Hotel</th>\n",
       "      <th>0</th>\n",
       "      <td>25982</td>\n",
       "      <td>25982</td>\n",
       "      <td>25982</td>\n",
       "      <td>25982</td>\n",
       "      <td>25982</td>\n",
       "      <td>25982</td>\n",
       "      <td>25982</td>\n",
       "      <td>25982</td>\n",
       "      <td>25982</td>\n",
       "      <td>25982</td>\n",
       "      <td>...</td>\n",
       "      <td>25982</td>\n",
       "      <td>25982</td>\n",
       "      <td>25982</td>\n",
       "      <td>25982</td>\n",
       "      <td>25982</td>\n",
       "      <td>25982</td>\n",
       "      <td>25982</td>\n",
       "      <td>25982</td>\n",
       "      <td>25982</td>\n",
       "      <td>25982</td>\n",
       "    </tr>\n",
       "    <tr>\n",
       "      <th>1</th>\n",
       "      <td>7974</td>\n",
       "      <td>7974</td>\n",
       "      <td>7974</td>\n",
       "      <td>7974</td>\n",
       "      <td>7974</td>\n",
       "      <td>7974</td>\n",
       "      <td>7974</td>\n",
       "      <td>7974</td>\n",
       "      <td>7974</td>\n",
       "      <td>7974</td>\n",
       "      <td>...</td>\n",
       "      <td>7974</td>\n",
       "      <td>7974</td>\n",
       "      <td>7974</td>\n",
       "      <td>7974</td>\n",
       "      <td>7974</td>\n",
       "      <td>7974</td>\n",
       "      <td>7974</td>\n",
       "      <td>7974</td>\n",
       "      <td>7974</td>\n",
       "      <td>7974</td>\n",
       "    </tr>\n",
       "  </tbody>\n",
       "</table>\n",
       "<p>4 rows × 32 columns</p>\n",
       "</div>"
      ],
      "text/plain": [
       "                          lead_time  arrival_date_year  arrival_date_month  \\\n",
       "hotel        is_canceled                                                     \n",
       "City Hotel   0                37239              37239               37239   \n",
       "             1                16034              16034               16034   \n",
       "Resort Hotel 0                25982              25982               25982   \n",
       "             1                 7974               7974                7974   \n",
       "\n",
       "                          arrival_date_week_number  arrival_date_day_of_month  \\\n",
       "hotel        is_canceled                                                        \n",
       "City Hotel   0                               37239                      37239   \n",
       "             1                               16034                      16034   \n",
       "Resort Hotel 0                               25982                      25982   \n",
       "             1                                7974                       7974   \n",
       "\n",
       "                          stays_in_weekend_nights  stays_in_week_nights  \\\n",
       "hotel        is_canceled                                                  \n",
       "City Hotel   0                              37239                 37239   \n",
       "             1                              16034                 16034   \n",
       "Resort Hotel 0                              25982                 25982   \n",
       "             1                               7974                  7974   \n",
       "\n",
       "                          adults  children  babies  ...  company  \\\n",
       "hotel        is_canceled                            ...            \n",
       "City Hotel   0             37239     37239   37239  ...    37239   \n",
       "             1             16034     16034   16034  ...    16034   \n",
       "Resort Hotel 0             25982     25982   25982  ...    25982   \n",
       "             1              7974      7974    7974  ...     7974   \n",
       "\n",
       "                          days_in_waiting_list  customer_type    adr  \\\n",
       "hotel        is_canceled                                               \n",
       "City Hotel   0                           37239          37239  37239   \n",
       "             1                           16034          16034  16034   \n",
       "Resort Hotel 0                           25982          25982  25982   \n",
       "             1                            7974           7974   7974   \n",
       "\n",
       "                          required_car_parking_spaces  \\\n",
       "hotel        is_canceled                                \n",
       "City Hotel   0                                  37239   \n",
       "             1                                  16034   \n",
       "Resort Hotel 0                                  25982   \n",
       "             1                                   7974   \n",
       "\n",
       "                          total_of_special_requests  reservation_status  \\\n",
       "hotel        is_canceled                                                  \n",
       "City Hotel   0                                37239               37239   \n",
       "             1                                16034               16034   \n",
       "Resort Hotel 0                                25982               25982   \n",
       "             1                                 7974                7974   \n",
       "\n",
       "                          reservation_status_date  total_stay  total_people  \n",
       "hotel        is_canceled                                                     \n",
       "City Hotel   0                              37239       37239         37239  \n",
       "             1                              16034       16034         16034  \n",
       "Resort Hotel 0                              25982       25982         25982  \n",
       "             1                               7974        7974          7974  \n",
       "\n",
       "[4 rows x 32 columns]"
      ]
     },
     "execution_count": 76,
     "metadata": {},
     "output_type": "execute_result"
    }
   ],
   "source": [
    "df1.groupby([\"hotel\",\"is_canceled\"]).count()"
   ]
  },
  {
   "cell_type": "code",
   "execution_count": 77,
   "id": "f459665a",
   "metadata": {},
   "outputs": [
    {
     "data": {
      "text/html": [
       "<div>\n",
       "<style scoped>\n",
       "    .dataframe tbody tr th:only-of-type {\n",
       "        vertical-align: middle;\n",
       "    }\n",
       "\n",
       "    .dataframe tbody tr th {\n",
       "        vertical-align: top;\n",
       "    }\n",
       "\n",
       "    .dataframe thead th {\n",
       "        text-align: right;\n",
       "    }\n",
       "</style>\n",
       "<table border=\"1\" class=\"dataframe\">\n",
       "  <thead>\n",
       "    <tr style=\"text-align: right;\">\n",
       "      <th></th>\n",
       "      <th>canceled_bookings</th>\n",
       "      <th>total_bookings</th>\n",
       "      <th>cancel_perc</th>\n",
       "    </tr>\n",
       "    <tr>\n",
       "      <th>hotel</th>\n",
       "      <th></th>\n",
       "      <th></th>\n",
       "      <th></th>\n",
       "    </tr>\n",
       "  </thead>\n",
       "  <tbody>\n",
       "    <tr>\n",
       "      <th>City Hotel</th>\n",
       "      <td>16034</td>\n",
       "      <td>53273</td>\n",
       "      <td>30.097798</td>\n",
       "    </tr>\n",
       "    <tr>\n",
       "      <th>Resort Hotel</th>\n",
       "      <td>7974</td>\n",
       "      <td>33956</td>\n",
       "      <td>23.483331</td>\n",
       "    </tr>\n",
       "  </tbody>\n",
       "</table>\n",
       "</div>"
      ],
      "text/plain": [
       "              canceled_bookings  total_bookings  cancel_perc\n",
       "hotel                                                       \n",
       "City Hotel                16034           53273    30.097798\n",
       "Resort Hotel               7974           33956    23.483331"
      ]
     },
     "execution_count": 77,
     "metadata": {},
     "output_type": "execute_result"
    }
   ],
   "source": [
    "cancelled = df1[df1.is_canceled == 1]\n",
    "\n",
    "canceled_bookings = cancelled.groupby(\"hotel\").count().is_canceled\n",
    "\n",
    "total_bookings = df1.groupby(\"hotel\").count().is_canceled\n",
    "\n",
    "cancel_perc = canceled_bookings/total_bookings * 100\n",
    "\n",
    "D3 = pd.concat([canceled_bookings,total_bookings,cancel_perc],axis =1)\n",
    "\n",
    "D3.columns = [\"canceled_bookings\",\"total_bookings\",\"cancel_perc\"]\n",
    "\n",
    "D3"
   ]
  },
  {
   "cell_type": "code",
   "execution_count": 78,
   "id": "4cc0b466",
   "metadata": {},
   "outputs": [
    {
     "data": {
      "text/plain": [
       "<AxesSubplot:xlabel='hotel', ylabel='cancel_perc'>"
      ]
     },
     "execution_count": 78,
     "metadata": {},
     "output_type": "execute_result"
    },
    {
     "data": {
      "image/png": "[encoded data removed]",
      "text/plain": [
       "<Figure size 1000x600 with 1 Axes>"
      ]
     },
     "metadata": {
      "needs_background": "light"
     },
     "output_type": "display_data"
    }
   ],
   "source": [
    "bar_plot(D3.index,D3.cancel_perc)"
   ]
  },
  {
   "cell_type": "markdown",
   "id": "9260ce35",
   "metadata": {},
   "source": [
    "Q13)  Which hotel has a  high chance that its customer will return for another stay?"
   ]
  },
  {
   "cell_type": "code",
   "execution_count": 79,
   "id": "4fb97fa8",
   "metadata": {},
   "outputs": [
    {
     "data": {
      "text/html": [
       "<div>\n",
       "<style scoped>\n",
       "    .dataframe tbody tr th:only-of-type {\n",
       "        vertical-align: middle;\n",
       "    }\n",
       "\n",
       "    .dataframe tbody tr th {\n",
       "        vertical-align: top;\n",
       "    }\n",
       "\n",
       "    .dataframe thead th {\n",
       "        text-align: right;\n",
       "    }\n",
       "</style>\n",
       "<table border=\"1\" class=\"dataframe\">\n",
       "  <thead>\n",
       "    <tr style=\"text-align: right;\">\n",
       "      <th></th>\n",
       "      <th>repeated_guests</th>\n",
       "      <th>total_guests</th>\n",
       "      <th>perc_repetation</th>\n",
       "    </tr>\n",
       "    <tr>\n",
       "      <th>hotel</th>\n",
       "      <th></th>\n",
       "      <th></th>\n",
       "      <th></th>\n",
       "    </tr>\n",
       "  </thead>\n",
       "  <tbody>\n",
       "    <tr>\n",
       "      <th>City Hotel</th>\n",
       "      <td>1657</td>\n",
       "      <td>53273</td>\n",
       "      <td>3.110394</td>\n",
       "    </tr>\n",
       "    <tr>\n",
       "      <th>Resort Hotel</th>\n",
       "      <td>1707</td>\n",
       "      <td>33956</td>\n",
       "      <td>5.027094</td>\n",
       "    </tr>\n",
       "  </tbody>\n",
       "</table>\n",
       "</div>"
      ],
      "text/plain": [
       "              repeated_guests  total_guests  perc_repetation\n",
       "hotel                                                       \n",
       "City Hotel               1657         53273         3.110394\n",
       "Resort Hotel             1707         33956         5.027094"
      ]
     },
     "execution_count": 79,
     "metadata": {},
     "output_type": "execute_result"
    }
   ],
   "source": [
    "repeated_guest = df1[df1.is_repeated_guest == 1]\n",
    "\n",
    "repeated_guests = repeated_guest.groupby(\"hotel\").count().is_repeated_guest\n",
    "\n",
    "total_guests = df1.groupby(\"hotel\").count().is_repeated_guest\n",
    "\n",
    "perc_repetation = repeated_guests/total_guests * 100\n",
    "\n",
    "D4 = pd.concat([repeated_guests,total_guests,perc_repetation], axis =1)\n",
    "\n",
    "D4.columns = [\"repeated_guests\",\"total_guests\", \"perc_repetation\"]\n",
    "\n",
    "D4"
   ]
  },
  {
   "cell_type": "code",
   "execution_count": 80,
   "id": "5306f400",
   "metadata": {},
   "outputs": [
    {
     "data": {
      "text/plain": [
       "<AxesSubplot:xlabel='hotel', ylabel='perc_repetation'>"
      ]
     },
     "execution_count": 80,
     "metadata": {},
     "output_type": "execute_result"
    },
    {
     "data": {
      "image/png": "[encoded data removed]",
      "text/plain": [
       "<Figure size 1000x600 with 1 Axes>"
      ]
     },
     "metadata": {
      "needs_background": "light"
     },
     "output_type": "display_data"
    }
   ],
   "source": [
    "bar_plot(D4.index,D4.perc_repetation)"
   ]
  },
  {
   "cell_type": "markdown",
   "id": "28b332cf",
   "metadata": {},
   "source": []
  },
  {
   "cell_type": "markdown",
   "id": "569ce41e",
   "metadata": {},
   "source": [
    "Q14)  Which channel is mostly used for the  early booking of hotels?"
   ]
  },
  {
   "cell_type": "code",
   "execution_count": 88,
   "id": "c8250702",
   "metadata": {},
   "outputs": [
    {
     "data": {
      "text/plain": [
       "TA/TO        79.133086\n",
       "Direct       14.850566\n",
       "Corporate     5.803116\n",
       "GDS           0.207500\n",
       "Undefined     0.005732\n",
       "Name: distribution_channel, dtype: float64"
      ]
     },
     "execution_count": 88,
     "metadata": {},
     "output_type": "execute_result"
    }
   ],
   "source": [
    "channel = df1.distribution_channel.value_counts()/len(df1) * 100\n",
    "channel"
   ]
  },
  {
   "cell_type": "code",
   "execution_count": 89,
   "id": "4ef6a52c",
   "metadata": {},
   "outputs": [
    {
     "data": {
      "text/plain": [
       "<AxesSubplot:ylabel='distribution_channel'>"
      ]
     },
     "execution_count": 89,
     "metadata": {},
     "output_type": "execute_result"
    },
    {
     "data": {
      "image/png": "[encoded data removed]",
      "text/plain": [
       "<Figure size 1000x600 with 1 Axes>"
      ]
     },
     "metadata": {
      "needs_background": "light"
     },
     "output_type": "display_data"
    }
   ],
   "source": [
    "bar_plot(channel.index,channel)"
   ]
  },
  {
   "cell_type": "markdown",
   "id": "469b4fd0",
   "metadata": {},
   "source": [
    "Q15)  Which channel has a  longer average waiting time?"
   ]
  },
  {
   "cell_type": "code",
   "execution_count": 98,
   "id": "b4c55280",
   "metadata": {},
   "outputs": [
    {
     "data": {
      "text/plain": [
       "distribution_channel\n",
       "Corporate    0.196168\n",
       "Direct       0.368766\n",
       "GDS          0.000000\n",
       "TA/TO        0.859504\n",
       "Undefined    0.000000\n",
       "Name: days_in_waiting_list, dtype: float64"
      ]
     },
     "execution_count": 98,
     "metadata": {},
     "output_type": "execute_result"
    }
   ],
   "source": [
    "avg_wait_time = df1.groupby(\"distribution_channel\").days_in_waiting_list.mean()\n",
    "avg_wait_time"
   ]
  },
  {
   "cell_type": "code",
   "execution_count": 99,
   "id": "18c2931c",
   "metadata": {},
   "outputs": [
    {
     "data": {
      "text/plain": [
       "<AxesSubplot:xlabel='distribution_channel', ylabel='days_in_waiting_list'>"
      ]
     },
     "execution_count": 99,
     "metadata": {},
     "output_type": "execute_result"
    },
    {
     "data": {
      "image/png": "[encoded data removed]",
      "text/plain": [
       "<Figure size 1000x600 with 1 Axes>"
      ]
     },
     "metadata": {
      "needs_background": "light"
     },
     "output_type": "display_data"
    }
   ],
   "source": [
    "bar_plot(avg_wait_time.index,avg_wait_time)"
   ]
  },
  {
   "cell_type": "markdown",
   "id": "22b81d9c",
   "metadata": {},
   "source": [
    "Q16)  Which distribution channel brings better revenue-generatingg deals for hotels?"
   ]
  },
  {
   "cell_type": "code",
   "execution_count": 170,
   "id": "a80b0d0a",
   "metadata": {},
   "outputs": [
    {
     "data": {
      "text/html": [
       "<div>\n",
       "<style scoped>\n",
       "    .dataframe tbody tr th:only-of-type {\n",
       "        vertical-align: middle;\n",
       "    }\n",
       "\n",
       "    .dataframe tbody tr th {\n",
       "        vertical-align: top;\n",
       "    }\n",
       "\n",
       "    .dataframe thead th {\n",
       "        text-align: right;\n",
       "    }\n",
       "</style>\n",
       "<table border=\"1\" class=\"dataframe\">\n",
       "  <thead>\n",
       "    <tr style=\"text-align: right;\">\n",
       "      <th></th>\n",
       "      <th>distribution_channel</th>\n",
       "      <th>hotel</th>\n",
       "      <th>adr</th>\n",
       "    </tr>\n",
       "  </thead>\n",
       "  <tbody>\n",
       "    <tr>\n",
       "      <th>0</th>\n",
       "      <td>Corporate</td>\n",
       "      <td>City Hotel</td>\n",
       "      <td>83.777368</td>\n",
       "    </tr>\n",
       "    <tr>\n",
       "      <th>1</th>\n",
       "      <td>Corporate</td>\n",
       "      <td>Resort Hotel</td>\n",
       "      <td>53.036835</td>\n",
       "    </tr>\n",
       "    <tr>\n",
       "      <th>2</th>\n",
       "      <td>Direct</td>\n",
       "      <td>City Hotel</td>\n",
       "      <td>112.606688</td>\n",
       "    </tr>\n",
       "    <tr>\n",
       "      <th>3</th>\n",
       "      <td>Direct</td>\n",
       "      <td>Resort Hotel</td>\n",
       "      <td>106.566215</td>\n",
       "    </tr>\n",
       "    <tr>\n",
       "      <th>4</th>\n",
       "      <td>GDS</td>\n",
       "      <td>City Hotel</td>\n",
       "      <td>120.317845</td>\n",
       "    </tr>\n",
       "    <tr>\n",
       "      <th>5</th>\n",
       "      <td>TA/TO</td>\n",
       "      <td>City Hotel</td>\n",
       "      <td>112.544578</td>\n",
       "    </tr>\n",
       "    <tr>\n",
       "      <th>6</th>\n",
       "      <td>TA/TO</td>\n",
       "      <td>Resort Hotel</td>\n",
       "      <td>101.578317</td>\n",
       "    </tr>\n",
       "    <tr>\n",
       "      <th>7</th>\n",
       "      <td>Undefined</td>\n",
       "      <td>City Hotel</td>\n",
       "      <td>29.625000</td>\n",
       "    </tr>\n",
       "    <tr>\n",
       "      <th>8</th>\n",
       "      <td>Undefined</td>\n",
       "      <td>Resort Hotel</td>\n",
       "      <td>112.700000</td>\n",
       "    </tr>\n",
       "  </tbody>\n",
       "</table>\n",
       "</div>"
      ],
      "text/plain": [
       "  distribution_channel         hotel         adr\n",
       "0            Corporate    City Hotel   83.777368\n",
       "1            Corporate  Resort Hotel   53.036835\n",
       "2               Direct    City Hotel  112.606688\n",
       "3               Direct  Resort Hotel  106.566215\n",
       "4                  GDS    City Hotel  120.317845\n",
       "5                TA/TO    City Hotel  112.544578\n",
       "6                TA/TO  Resort Hotel  101.578317\n",
       "7            Undefined    City Hotel   29.625000\n",
       "8            Undefined  Resort Hotel  112.700000"
      ]
     },
     "execution_count": 170,
     "metadata": {},
     "output_type": "execute_result"
    }
   ],
   "source": [
    "revenue = df1.groupby([\"distribution_channel\",\"hotel\"]).mean().adr\n",
    "\n",
    "D6= pd.DataFrame(revenue).reset_index()\n",
    "D6"
   ]
  },
  {
   "cell_type": "code",
   "execution_count": 175,
   "id": "2184943b",
   "metadata": {},
   "outputs": [
    {
     "data": {
      "text/plain": [
       "<AxesSubplot:xlabel='distribution_channel', ylabel='adr'>"
      ]
     },
     "execution_count": 175,
     "metadata": {},
     "output_type": "execute_result"
    },
    {
     "data": {
      "image/png": "[encoded data removed]",
      "text/plain": [
       "<Figure size 432x288 with 1 Axes>"
      ]
     },
     "metadata": {
      "needs_background": "light"
     },
     "output_type": "display_data"
    }
   ],
   "source": [
    "sns.barplot(x = D6.distribution_channel,y = D6.adr, hue = D6.hotel)"
   ]
  },
  {
   "cell_type": "markdown",
   "id": "185d281f",
   "metadata": {},
   "source": [
    "Q17)  Which significant distribution channel has the highest cancellation percentage?"
   ]
  },
  {
   "cell_type": "code",
   "execution_count": 186,
   "id": "d43e7763",
   "metadata": {},
   "outputs": [
    {
     "data": {
      "text/plain": [
       "distribution_channel\n",
       "Corporate    12.761754\n",
       "Direct       14.844836\n",
       "GDS          19.889503\n",
       "TA/TO        31.000913\n",
       "Undefined    80.000000\n",
       "Name: is_canceled, dtype: float64"
      ]
     },
     "execution_count": 186,
     "metadata": {},
     "output_type": "execute_result"
    }
   ],
   "source": [
    "is_cancelled = df1[df1.is_canceled == 1]\n",
    "\n",
    "num_cancellation = is_cancelled.groupby(\"distribution_channel\").count().is_canceled\n",
    "\n",
    "total_bookings = df1.groupby(\"distribution_channel\").count().is_canceled\n",
    "\n",
    "perc_cancellation = num_cancellation/total_bookings * 100\n",
    "\n",
    "perc_cancellation\n",
    "\n"
   ]
  },
  {
   "cell_type": "code",
   "execution_count": 187,
   "id": "70a5c5e2",
   "metadata": {},
   "outputs": [
    {
     "data": {
      "text/plain": [
       "<AxesSubplot:xlabel='distribution_channel', ylabel='is_canceled'>"
      ]
     },
     "execution_count": 187,
     "metadata": {},
     "output_type": "execute_result"
    },
    {
     "data": {
      "image/png": "[encoded data removed]",
      "text/plain": [
       "<Figure size 1000x600 with 1 Axes>"
      ]
     },
     "metadata": {
      "needs_background": "light"
     },
     "output_type": "display_data"
    }
   ],
   "source": [
    "bar_plot(perc_cancellation.index,perc_cancellation)"
   ]
  },
  {
   "cell_type": "markdown",
   "id": "d151a967",
   "metadata": {},
   "source": [
    "Q18) Does a  longer waiting period or longer lead time causes the cancellation of bookings?"
   ]
  },
  {
   "cell_type": "code",
   "execution_count": 188,
   "id": "5a6d629c",
   "metadata": {},
   "outputs": [],
   "source": [
    "waiting_bookings = df1[df1['days_in_waiting_list'] !=0]"
   ]
  },
  {
   "cell_type": "code",
   "execution_count": 189,
   "id": "c94729d3",
   "metadata": {},
   "outputs": [
    {
     "data": {
      "text/html": [
       "<div>\n",
       "<style scoped>\n",
       "    .dataframe tbody tr th:only-of-type {\n",
       "        vertical-align: middle;\n",
       "    }\n",
       "\n",
       "    .dataframe tbody tr th {\n",
       "        vertical-align: top;\n",
       "    }\n",
       "\n",
       "    .dataframe thead th {\n",
       "        text-align: right;\n",
       "    }\n",
       "</style>\n",
       "<table border=\"1\" class=\"dataframe\">\n",
       "  <thead>\n",
       "    <tr style=\"text-align: right;\">\n",
       "      <th></th>\n",
       "      <th>hotel</th>\n",
       "      <th>is_canceled</th>\n",
       "      <th>lead_time</th>\n",
       "      <th>arrival_date_year</th>\n",
       "      <th>arrival_date_month</th>\n",
       "      <th>arrival_date_week_number</th>\n",
       "      <th>arrival_date_day_of_month</th>\n",
       "      <th>stays_in_weekend_nights</th>\n",
       "      <th>stays_in_week_nights</th>\n",
       "      <th>adults</th>\n",
       "      <th>...</th>\n",
       "      <th>company</th>\n",
       "      <th>days_in_waiting_list</th>\n",
       "      <th>customer_type</th>\n",
       "      <th>adr</th>\n",
       "      <th>required_car_parking_spaces</th>\n",
       "      <th>total_of_special_requests</th>\n",
       "      <th>reservation_status</th>\n",
       "      <th>reservation_status_date</th>\n",
       "      <th>total_stay</th>\n",
       "      <th>total_people</th>\n",
       "    </tr>\n",
       "  </thead>\n",
       "  <tbody>\n",
       "    <tr>\n",
       "      <th>2272</th>\n",
       "      <td>Resort Hotel</td>\n",
       "      <td>0</td>\n",
       "      <td>59</td>\n",
       "      <td>2015</td>\n",
       "      <td>October</td>\n",
       "      <td>41</td>\n",
       "      <td>8</td>\n",
       "      <td>0</td>\n",
       "      <td>3</td>\n",
       "      <td>2</td>\n",
       "      <td>...</td>\n",
       "      <td>0</td>\n",
       "      <td>50</td>\n",
       "      <td>Contract</td>\n",
       "      <td>45.0</td>\n",
       "      <td>0</td>\n",
       "      <td>0</td>\n",
       "      <td>Check-Out</td>\n",
       "      <td>2015-10-11</td>\n",
       "      <td>3</td>\n",
       "      <td>2</td>\n",
       "    </tr>\n",
       "    <tr>\n",
       "      <th>2486</th>\n",
       "      <td>Resort Hotel</td>\n",
       "      <td>0</td>\n",
       "      <td>47</td>\n",
       "      <td>2015</td>\n",
       "      <td>October</td>\n",
       "      <td>43</td>\n",
       "      <td>19</td>\n",
       "      <td>1</td>\n",
       "      <td>4</td>\n",
       "      <td>2</td>\n",
       "      <td>...</td>\n",
       "      <td>0</td>\n",
       "      <td>47</td>\n",
       "      <td>Transient-Party</td>\n",
       "      <td>76.8</td>\n",
       "      <td>0</td>\n",
       "      <td>0</td>\n",
       "      <td>Check-Out</td>\n",
       "      <td>2015-10-24</td>\n",
       "      <td>5</td>\n",
       "      <td>2</td>\n",
       "    </tr>\n",
       "    <tr>\n",
       "      <th>2508</th>\n",
       "      <td>Resort Hotel</td>\n",
       "      <td>0</td>\n",
       "      <td>47</td>\n",
       "      <td>2015</td>\n",
       "      <td>October</td>\n",
       "      <td>43</td>\n",
       "      <td>19</td>\n",
       "      <td>1</td>\n",
       "      <td>4</td>\n",
       "      <td>2</td>\n",
       "      <td>...</td>\n",
       "      <td>0</td>\n",
       "      <td>47</td>\n",
       "      <td>Transient-Party</td>\n",
       "      <td>76.8</td>\n",
       "      <td>0</td>\n",
       "      <td>0</td>\n",
       "      <td>Check-Out</td>\n",
       "      <td>2015-10-24</td>\n",
       "      <td>5</td>\n",
       "      <td>2</td>\n",
       "    </tr>\n",
       "    <tr>\n",
       "      <th>3106</th>\n",
       "      <td>Resort Hotel</td>\n",
       "      <td>0</td>\n",
       "      <td>105</td>\n",
       "      <td>2015</td>\n",
       "      <td>November</td>\n",
       "      <td>47</td>\n",
       "      <td>18</td>\n",
       "      <td>2</td>\n",
       "      <td>4</td>\n",
       "      <td>2</td>\n",
       "      <td>...</td>\n",
       "      <td>0</td>\n",
       "      <td>65</td>\n",
       "      <td>Transient-Party</td>\n",
       "      <td>69.0</td>\n",
       "      <td>0</td>\n",
       "      <td>0</td>\n",
       "      <td>Check-Out</td>\n",
       "      <td>2015-11-24</td>\n",
       "      <td>6</td>\n",
       "      <td>2</td>\n",
       "    </tr>\n",
       "    <tr>\n",
       "      <th>3118</th>\n",
       "      <td>Resort Hotel</td>\n",
       "      <td>0</td>\n",
       "      <td>105</td>\n",
       "      <td>2015</td>\n",
       "      <td>November</td>\n",
       "      <td>47</td>\n",
       "      <td>18</td>\n",
       "      <td>2</td>\n",
       "      <td>4</td>\n",
       "      <td>2</td>\n",
       "      <td>...</td>\n",
       "      <td>0</td>\n",
       "      <td>65</td>\n",
       "      <td>Transient-Party</td>\n",
       "      <td>71.0</td>\n",
       "      <td>0</td>\n",
       "      <td>0</td>\n",
       "      <td>Check-Out</td>\n",
       "      <td>2015-11-24</td>\n",
       "      <td>6</td>\n",
       "      <td>2</td>\n",
       "    </tr>\n",
       "    <tr>\n",
       "      <th>...</th>\n",
       "      <td>...</td>\n",
       "      <td>...</td>\n",
       "      <td>...</td>\n",
       "      <td>...</td>\n",
       "      <td>...</td>\n",
       "      <td>...</td>\n",
       "      <td>...</td>\n",
       "      <td>...</td>\n",
       "      <td>...</td>\n",
       "      <td>...</td>\n",
       "      <td>...</td>\n",
       "      <td>...</td>\n",
       "      <td>...</td>\n",
       "      <td>...</td>\n",
       "      <td>...</td>\n",
       "      <td>...</td>\n",
       "      <td>...</td>\n",
       "      <td>...</td>\n",
       "      <td>...</td>\n",
       "      <td>...</td>\n",
       "      <td>...</td>\n",
       "    </tr>\n",
       "    <tr>\n",
       "      <th>111978</th>\n",
       "      <td>City Hotel</td>\n",
       "      <td>0</td>\n",
       "      <td>345</td>\n",
       "      <td>2017</td>\n",
       "      <td>May</td>\n",
       "      <td>19</td>\n",
       "      <td>13</td>\n",
       "      <td>2</td>\n",
       "      <td>3</td>\n",
       "      <td>2</td>\n",
       "      <td>...</td>\n",
       "      <td>0</td>\n",
       "      <td>36</td>\n",
       "      <td>Transient-Party</td>\n",
       "      <td>89.1</td>\n",
       "      <td>0</td>\n",
       "      <td>0</td>\n",
       "      <td>Check-Out</td>\n",
       "      <td>2017-05-18</td>\n",
       "      <td>5</td>\n",
       "      <td>2</td>\n",
       "    </tr>\n",
       "    <tr>\n",
       "      <th>112021</th>\n",
       "      <td>City Hotel</td>\n",
       "      <td>0</td>\n",
       "      <td>34</td>\n",
       "      <td>2017</td>\n",
       "      <td>May</td>\n",
       "      <td>20</td>\n",
       "      <td>16</td>\n",
       "      <td>0</td>\n",
       "      <td>3</td>\n",
       "      <td>1</td>\n",
       "      <td>...</td>\n",
       "      <td>0</td>\n",
       "      <td>9</td>\n",
       "      <td>Transient-Party</td>\n",
       "      <td>130.0</td>\n",
       "      <td>0</td>\n",
       "      <td>0</td>\n",
       "      <td>Check-Out</td>\n",
       "      <td>2017-05-19</td>\n",
       "      <td>3</td>\n",
       "      <td>1</td>\n",
       "    </tr>\n",
       "    <tr>\n",
       "      <th>112822</th>\n",
       "      <td>City Hotel</td>\n",
       "      <td>0</td>\n",
       "      <td>344</td>\n",
       "      <td>2017</td>\n",
       "      <td>May</td>\n",
       "      <td>21</td>\n",
       "      <td>27</td>\n",
       "      <td>1</td>\n",
       "      <td>1</td>\n",
       "      <td>2</td>\n",
       "      <td>...</td>\n",
       "      <td>0</td>\n",
       "      <td>98</td>\n",
       "      <td>Transient-Party</td>\n",
       "      <td>128.0</td>\n",
       "      <td>0</td>\n",
       "      <td>1</td>\n",
       "      <td>Check-Out</td>\n",
       "      <td>2017-05-29</td>\n",
       "      <td>2</td>\n",
       "      <td>2</td>\n",
       "    </tr>\n",
       "    <tr>\n",
       "      <th>114733</th>\n",
       "      <td>City Hotel</td>\n",
       "      <td>0</td>\n",
       "      <td>322</td>\n",
       "      <td>2017</td>\n",
       "      <td>June</td>\n",
       "      <td>25</td>\n",
       "      <td>23</td>\n",
       "      <td>2</td>\n",
       "      <td>2</td>\n",
       "      <td>2</td>\n",
       "      <td>...</td>\n",
       "      <td>0</td>\n",
       "      <td>59</td>\n",
       "      <td>Transient-Party</td>\n",
       "      <td>105.0</td>\n",
       "      <td>0</td>\n",
       "      <td>3</td>\n",
       "      <td>Check-Out</td>\n",
       "      <td>2017-06-27</td>\n",
       "      <td>4</td>\n",
       "      <td>2</td>\n",
       "    </tr>\n",
       "    <tr>\n",
       "      <th>115990</th>\n",
       "      <td>City Hotel</td>\n",
       "      <td>0</td>\n",
       "      <td>73</td>\n",
       "      <td>2017</td>\n",
       "      <td>July</td>\n",
       "      <td>28</td>\n",
       "      <td>11</td>\n",
       "      <td>0</td>\n",
       "      <td>2</td>\n",
       "      <td>2</td>\n",
       "      <td>...</td>\n",
       "      <td>0</td>\n",
       "      <td>23</td>\n",
       "      <td>Transient</td>\n",
       "      <td>80.0</td>\n",
       "      <td>0</td>\n",
       "      <td>1</td>\n",
       "      <td>Check-Out</td>\n",
       "      <td>2017-07-13</td>\n",
       "      <td>2</td>\n",
       "      <td>2</td>\n",
       "    </tr>\n",
       "  </tbody>\n",
       "</table>\n",
       "<p>855 rows × 34 columns</p>\n",
       "</div>"
      ],
      "text/plain": [
       "               hotel  is_canceled  lead_time  arrival_date_year  \\\n",
       "2272    Resort Hotel            0         59               2015   \n",
       "2486    Resort Hotel            0         47               2015   \n",
       "2508    Resort Hotel            0         47               2015   \n",
       "3106    Resort Hotel            0        105               2015   \n",
       "3118    Resort Hotel            0        105               2015   \n",
       "...              ...          ...        ...                ...   \n",
       "111978    City Hotel            0        345               2017   \n",
       "112021    City Hotel            0         34               2017   \n",
       "112822    City Hotel            0        344               2017   \n",
       "114733    City Hotel            0        322               2017   \n",
       "115990    City Hotel            0         73               2017   \n",
       "\n",
       "       arrival_date_month  arrival_date_week_number  \\\n",
       "2272              October                        41   \n",
       "2486              October                        43   \n",
       "2508              October                        43   \n",
       "3106             November                        47   \n",
       "3118             November                        47   \n",
       "...                   ...                       ...   \n",
       "111978                May                        19   \n",
       "112021                May                        20   \n",
       "112822                May                        21   \n",
       "114733               June                        25   \n",
       "115990               July                        28   \n",
       "\n",
       "        arrival_date_day_of_month  stays_in_weekend_nights  \\\n",
       "2272                            8                        0   \n",
       "2486                           19                        1   \n",
       "2508                           19                        1   \n",
       "3106                           18                        2   \n",
       "3118                           18                        2   \n",
       "...                           ...                      ...   \n",
       "111978                         13                        2   \n",
       "112021                         16                        0   \n",
       "112822                         27                        1   \n",
       "114733                         23                        2   \n",
       "115990                         11                        0   \n",
       "\n",
       "        stays_in_week_nights  adults  ...  company  days_in_waiting_list  \\\n",
       "2272                       3       2  ...        0                    50   \n",
       "2486                       4       2  ...        0                    47   \n",
       "2508                       4       2  ...        0                    47   \n",
       "3106                       4       2  ...        0                    65   \n",
       "3118                       4       2  ...        0                    65   \n",
       "...                      ...     ...  ...      ...                   ...   \n",
       "111978                     3       2  ...        0                    36   \n",
       "112021                     3       1  ...        0                     9   \n",
       "112822                     1       2  ...        0                    98   \n",
       "114733                     2       2  ...        0                    59   \n",
       "115990                     2       2  ...        0                    23   \n",
       "\n",
       "          customer_type    adr required_car_parking_spaces  \\\n",
       "2272           Contract   45.0                           0   \n",
       "2486    Transient-Party   76.8                           0   \n",
       "2508    Transient-Party   76.8                           0   \n",
       "3106    Transient-Party   69.0                           0   \n",
       "3118    Transient-Party   71.0                           0   \n",
       "...                 ...    ...                         ...   \n",
       "111978  Transient-Party   89.1                           0   \n",
       "112021  Transient-Party  130.0                           0   \n",
       "112822  Transient-Party  128.0                           0   \n",
       "114733  Transient-Party  105.0                           0   \n",
       "115990        Transient   80.0                           0   \n",
       "\n",
       "       total_of_special_requests  reservation_status  reservation_status_date  \\\n",
       "2272                           0           Check-Out               2015-10-11   \n",
       "2486                           0           Check-Out               2015-10-24   \n",
       "2508                           0           Check-Out               2015-10-24   \n",
       "3106                           0           Check-Out               2015-11-24   \n",
       "3118                           0           Check-Out               2015-11-24   \n",
       "...                          ...                 ...                      ...   \n",
       "111978                         0           Check-Out               2017-05-18   \n",
       "112021                         0           Check-Out               2017-05-19   \n",
       "112822                         1           Check-Out               2017-05-29   \n",
       "114733                         3           Check-Out               2017-06-27   \n",
       "115990                         1           Check-Out               2017-07-13   \n",
       "\n",
       "        total_stay total_people  \n",
       "2272             3            2  \n",
       "2486             5            2  \n",
       "2508             5            2  \n",
       "3106             6            2  \n",
       "3118             6            2  \n",
       "...            ...          ...  \n",
       "111978           5            2  \n",
       "112021           3            1  \n",
       "112822           2            2  \n",
       "114733           4            2  \n",
       "115990           2            2  \n",
       "\n",
       "[855 rows x 34 columns]"
      ]
     },
     "execution_count": 189,
     "metadata": {},
     "output_type": "execute_result"
    }
   ],
   "source": [
    "waiting_bookings"
   ]
  },
  {
   "cell_type": "code",
   "execution_count": 198,
   "id": "91f6546d",
   "metadata": {},
   "outputs": [
    {
     "data": {
      "text/plain": [
       "<AxesSubplot:xlabel='days_in_waiting_list', ylabel='Density'>"
      ]
     },
     "execution_count": 198,
     "metadata": {},
     "output_type": "execute_result"
    },
    {
     "data": {
      "image/png": "[encoded data removed]",
      "text/plain": [
       "<Figure size 432x288 with 1 Axes>"
      ]
     },
     "metadata": {
      "needs_background": "light"
     },
     "output_type": "display_data"
    }
   ],
   "source": [
    "sns.kdeplot(x = \"days_in_waiting_list\",hue = \"is_canceled\", data =waiting_bookings)"
   ]
  },
  {
   "cell_type": "code",
   "execution_count": 200,
   "id": "c86476e0",
   "metadata": {},
   "outputs": [
    {
     "data": {
      "text/plain": [
       "<AxesSubplot:xlabel='lead_time', ylabel='Density'>"
      ]
     },
     "execution_count": 200,
     "metadata": {},
     "output_type": "execute_result"
    },
    {
     "data": {
      "image/png": "[encoded data removed]",
      "text/plain": [
       "<Figure size 432x288 with 1 Axes>"
      ]
     },
     "metadata": {
      "needs_background": "light"
     },
     "output_type": "display_data"
    }
   ],
   "source": [
    "sns.kdeplot(x = \"lead_time\",hue = \"is_canceled\", data = df1)"
   ]
  },
  {
   "cell_type": "markdown",
   "id": "ded54b58",
   "metadata": {},
   "source": [
    "We see that most of the bookings that are cancelled have waiting period of less 150 days but also most of bookings that are not cancelled also have waiting period less than 150 days. Hence this shows that waiting period has no effect on cancellation of bookings. \\\n",
    "\\\n",
    "Also, lead time has no affect on cancellation of bookings, as both curves of cancelation and not cncelation are similar for lead time too."
   ]
  },
  {
   "cell_type": "markdown",
   "id": "67356eb6",
   "metadata": {},
   "source": [
    "Q19) Whether not getting allotted the same room type as demand is the main cause of cancellation for bookings?"
   ]
  },
  {
   "cell_type": "code",
   "execution_count": 277,
   "id": "b6d900bf",
   "metadata": {},
   "outputs": [
    {
     "data": {
      "text/plain": [
       "False    97.434189\n",
       "True      2.565811\n",
       "Name: same_room_not_alloted, dtype: float64"
      ]
     },
     "execution_count": 277,
     "metadata": {},
     "output_type": "execute_result"
    }
   ],
   "source": [
    "# rooms cancelled if reserved != assigned ---> True\n",
    "# rooms cancelled if reserved = assigned -----> False\n",
    "\n",
    "cancellations = df1[df1.is_canceled == 1]\n",
    "\n",
    "count = 0\n",
    "count1 = 0\n",
    "\n",
    "cancellations[\"same_room_not_alloted\"] = cancellations['reserved_room_type'] != cancellations['assigned_room_type']\n",
    "    \n",
    "cancellations[\"same_room_not_alloted\"].value_counts()/len(cancellations) * 100\n",
    "\n"
   ]
  },
  {
   "cell_type": "markdown",
   "id": "86aba081",
   "metadata": {},
   "source": [
    "We see that not getting same room as demanded is not the case of cancellation of rooms. A significant percentage of bookings are not cancelled even after getting different room as demanded."
   ]
  },
  {
   "cell_type": "markdown",
   "id": "60cee87e",
   "metadata": {},
   "source": [
    "Q20) Does not alloting the  same room as demanded affect adr?"
   ]
  },
  {
   "cell_type": "code",
   "execution_count": 278,
   "id": "b976dfc3",
   "metadata": {},
   "outputs": [
    {
     "data": {
      "image/png": "[encoded data removed]",
      "text/plain": [
       "<Figure size 864x432 with 1 Axes>"
      ]
     },
     "metadata": {
      "needs_background": "light"
     },
     "output_type": "display_data"
    }
   ],
   "source": [
    "plt.figure(figsize = (12,6))\n",
    "sns.boxplot(x = 'same_room_not_alloted', y = 'adr', data = df1)\n",
    "plt.show()"
   ]
  },
  {
   "cell_type": "markdown",
   "id": "cdb06926",
   "metadata": {},
   "source": [
    "So not getting same room do affects the adr, people who didn't got same room have paid a little lower adr, except for few exceptions."
   ]
  },
  {
   "cell_type": "markdown",
   "id": "8d235783",
   "metadata": {},
   "source": [
    " Q21) Which types of customers mostly make bookings?"
   ]
  },
  {
   "cell_type": "code",
   "execution_count": 285,
   "id": "7b79fa2e",
   "metadata": {},
   "outputs": [
    {
     "data": {
      "text/html": [
       "<div>\n",
       "<style scoped>\n",
       "    .dataframe tbody tr th:only-of-type {\n",
       "        vertical-align: middle;\n",
       "    }\n",
       "\n",
       "    .dataframe tbody tr th {\n",
       "        vertical-align: top;\n",
       "    }\n",
       "\n",
       "    .dataframe thead th {\n",
       "        text-align: right;\n",
       "    }\n",
       "</style>\n",
       "<table border=\"1\" class=\"dataframe\">\n",
       "  <thead>\n",
       "    <tr style=\"text-align: right;\">\n",
       "      <th></th>\n",
       "      <th>hotel</th>\n",
       "      <th>is_canceled</th>\n",
       "      <th>lead_time</th>\n",
       "      <th>arrival_date_year</th>\n",
       "      <th>arrival_date_month</th>\n",
       "      <th>arrival_date_week_number</th>\n",
       "      <th>arrival_date_day_of_month</th>\n",
       "      <th>stays_in_weekend_nights</th>\n",
       "      <th>stays_in_week_nights</th>\n",
       "      <th>adults</th>\n",
       "      <th>...</th>\n",
       "      <th>days_in_waiting_list</th>\n",
       "      <th>customer_type</th>\n",
       "      <th>adr</th>\n",
       "      <th>required_car_parking_spaces</th>\n",
       "      <th>total_of_special_requests</th>\n",
       "      <th>reservation_status</th>\n",
       "      <th>reservation_status_date</th>\n",
       "      <th>total_stay</th>\n",
       "      <th>total_people</th>\n",
       "      <th>same_room_not_alloted</th>\n",
       "    </tr>\n",
       "  </thead>\n",
       "  <tbody>\n",
       "    <tr>\n",
       "      <th>0</th>\n",
       "      <td>Resort Hotel</td>\n",
       "      <td>0</td>\n",
       "      <td>342</td>\n",
       "      <td>2015</td>\n",
       "      <td>July</td>\n",
       "      <td>27</td>\n",
       "      <td>1</td>\n",
       "      <td>0</td>\n",
       "      <td>0</td>\n",
       "      <td>2</td>\n",
       "      <td>...</td>\n",
       "      <td>0</td>\n",
       "      <td>Transient</td>\n",
       "      <td>0.00</td>\n",
       "      <td>0</td>\n",
       "      <td>0</td>\n",
       "      <td>Check-Out</td>\n",
       "      <td>2015-07-01</td>\n",
       "      <td>0</td>\n",
       "      <td>2</td>\n",
       "      <td>0</td>\n",
       "    </tr>\n",
       "    <tr>\n",
       "      <th>1</th>\n",
       "      <td>Resort Hotel</td>\n",
       "      <td>0</td>\n",
       "      <td>737</td>\n",
       "      <td>2015</td>\n",
       "      <td>July</td>\n",
       "      <td>27</td>\n",
       "      <td>1</td>\n",
       "      <td>0</td>\n",
       "      <td>0</td>\n",
       "      <td>2</td>\n",
       "      <td>...</td>\n",
       "      <td>0</td>\n",
       "      <td>Transient</td>\n",
       "      <td>0.00</td>\n",
       "      <td>0</td>\n",
       "      <td>0</td>\n",
       "      <td>Check-Out</td>\n",
       "      <td>2015-07-01</td>\n",
       "      <td>0</td>\n",
       "      <td>2</td>\n",
       "      <td>0</td>\n",
       "    </tr>\n",
       "    <tr>\n",
       "      <th>2</th>\n",
       "      <td>Resort Hotel</td>\n",
       "      <td>0</td>\n",
       "      <td>7</td>\n",
       "      <td>2015</td>\n",
       "      <td>July</td>\n",
       "      <td>27</td>\n",
       "      <td>1</td>\n",
       "      <td>0</td>\n",
       "      <td>1</td>\n",
       "      <td>1</td>\n",
       "      <td>...</td>\n",
       "      <td>0</td>\n",
       "      <td>Transient</td>\n",
       "      <td>75.00</td>\n",
       "      <td>0</td>\n",
       "      <td>0</td>\n",
       "      <td>Check-Out</td>\n",
       "      <td>2015-07-02</td>\n",
       "      <td>1</td>\n",
       "      <td>1</td>\n",
       "      <td>1</td>\n",
       "    </tr>\n",
       "    <tr>\n",
       "      <th>3</th>\n",
       "      <td>Resort Hotel</td>\n",
       "      <td>0</td>\n",
       "      <td>13</td>\n",
       "      <td>2015</td>\n",
       "      <td>July</td>\n",
       "      <td>27</td>\n",
       "      <td>1</td>\n",
       "      <td>0</td>\n",
       "      <td>1</td>\n",
       "      <td>1</td>\n",
       "      <td>...</td>\n",
       "      <td>0</td>\n",
       "      <td>Transient</td>\n",
       "      <td>75.00</td>\n",
       "      <td>0</td>\n",
       "      <td>0</td>\n",
       "      <td>Check-Out</td>\n",
       "      <td>2015-07-02</td>\n",
       "      <td>1</td>\n",
       "      <td>1</td>\n",
       "      <td>0</td>\n",
       "    </tr>\n",
       "    <tr>\n",
       "      <th>4</th>\n",
       "      <td>Resort Hotel</td>\n",
       "      <td>0</td>\n",
       "      <td>14</td>\n",
       "      <td>2015</td>\n",
       "      <td>July</td>\n",
       "      <td>27</td>\n",
       "      <td>1</td>\n",
       "      <td>0</td>\n",
       "      <td>2</td>\n",
       "      <td>2</td>\n",
       "      <td>...</td>\n",
       "      <td>0</td>\n",
       "      <td>Transient</td>\n",
       "      <td>98.00</td>\n",
       "      <td>0</td>\n",
       "      <td>1</td>\n",
       "      <td>Check-Out</td>\n",
       "      <td>2015-07-03</td>\n",
       "      <td>2</td>\n",
       "      <td>2</td>\n",
       "      <td>0</td>\n",
       "    </tr>\n",
       "    <tr>\n",
       "      <th>...</th>\n",
       "      <td>...</td>\n",
       "      <td>...</td>\n",
       "      <td>...</td>\n",
       "      <td>...</td>\n",
       "      <td>...</td>\n",
       "      <td>...</td>\n",
       "      <td>...</td>\n",
       "      <td>...</td>\n",
       "      <td>...</td>\n",
       "      <td>...</td>\n",
       "      <td>...</td>\n",
       "      <td>...</td>\n",
       "      <td>...</td>\n",
       "      <td>...</td>\n",
       "      <td>...</td>\n",
       "      <td>...</td>\n",
       "      <td>...</td>\n",
       "      <td>...</td>\n",
       "      <td>...</td>\n",
       "      <td>...</td>\n",
       "      <td>...</td>\n",
       "    </tr>\n",
       "    <tr>\n",
       "      <th>119385</th>\n",
       "      <td>City Hotel</td>\n",
       "      <td>0</td>\n",
       "      <td>23</td>\n",
       "      <td>2017</td>\n",
       "      <td>August</td>\n",
       "      <td>35</td>\n",
       "      <td>30</td>\n",
       "      <td>2</td>\n",
       "      <td>5</td>\n",
       "      <td>2</td>\n",
       "      <td>...</td>\n",
       "      <td>0</td>\n",
       "      <td>Transient</td>\n",
       "      <td>96.14</td>\n",
       "      <td>0</td>\n",
       "      <td>0</td>\n",
       "      <td>Check-Out</td>\n",
       "      <td>2017-09-06</td>\n",
       "      <td>7</td>\n",
       "      <td>2</td>\n",
       "      <td>0</td>\n",
       "    </tr>\n",
       "    <tr>\n",
       "      <th>119386</th>\n",
       "      <td>City Hotel</td>\n",
       "      <td>0</td>\n",
       "      <td>102</td>\n",
       "      <td>2017</td>\n",
       "      <td>August</td>\n",
       "      <td>35</td>\n",
       "      <td>31</td>\n",
       "      <td>2</td>\n",
       "      <td>5</td>\n",
       "      <td>3</td>\n",
       "      <td>...</td>\n",
       "      <td>0</td>\n",
       "      <td>Transient</td>\n",
       "      <td>225.43</td>\n",
       "      <td>0</td>\n",
       "      <td>2</td>\n",
       "      <td>Check-Out</td>\n",
       "      <td>2017-09-07</td>\n",
       "      <td>7</td>\n",
       "      <td>3</td>\n",
       "      <td>0</td>\n",
       "    </tr>\n",
       "    <tr>\n",
       "      <th>119387</th>\n",
       "      <td>City Hotel</td>\n",
       "      <td>0</td>\n",
       "      <td>34</td>\n",
       "      <td>2017</td>\n",
       "      <td>August</td>\n",
       "      <td>35</td>\n",
       "      <td>31</td>\n",
       "      <td>2</td>\n",
       "      <td>5</td>\n",
       "      <td>2</td>\n",
       "      <td>...</td>\n",
       "      <td>0</td>\n",
       "      <td>Transient</td>\n",
       "      <td>157.71</td>\n",
       "      <td>0</td>\n",
       "      <td>4</td>\n",
       "      <td>Check-Out</td>\n",
       "      <td>2017-09-07</td>\n",
       "      <td>7</td>\n",
       "      <td>2</td>\n",
       "      <td>0</td>\n",
       "    </tr>\n",
       "    <tr>\n",
       "      <th>119388</th>\n",
       "      <td>City Hotel</td>\n",
       "      <td>0</td>\n",
       "      <td>109</td>\n",
       "      <td>2017</td>\n",
       "      <td>August</td>\n",
       "      <td>35</td>\n",
       "      <td>31</td>\n",
       "      <td>2</td>\n",
       "      <td>5</td>\n",
       "      <td>2</td>\n",
       "      <td>...</td>\n",
       "      <td>0</td>\n",
       "      <td>Transient</td>\n",
       "      <td>104.40</td>\n",
       "      <td>0</td>\n",
       "      <td>0</td>\n",
       "      <td>Check-Out</td>\n",
       "      <td>2017-09-07</td>\n",
       "      <td>7</td>\n",
       "      <td>2</td>\n",
       "      <td>0</td>\n",
       "    </tr>\n",
       "    <tr>\n",
       "      <th>119389</th>\n",
       "      <td>City Hotel</td>\n",
       "      <td>0</td>\n",
       "      <td>205</td>\n",
       "      <td>2017</td>\n",
       "      <td>August</td>\n",
       "      <td>35</td>\n",
       "      <td>29</td>\n",
       "      <td>2</td>\n",
       "      <td>7</td>\n",
       "      <td>2</td>\n",
       "      <td>...</td>\n",
       "      <td>0</td>\n",
       "      <td>Transient</td>\n",
       "      <td>151.20</td>\n",
       "      <td>0</td>\n",
       "      <td>2</td>\n",
       "      <td>Check-Out</td>\n",
       "      <td>2017-09-07</td>\n",
       "      <td>9</td>\n",
       "      <td>2</td>\n",
       "      <td>0</td>\n",
       "    </tr>\n",
       "  </tbody>\n",
       "</table>\n",
       "<p>63221 rows × 35 columns</p>\n",
       "</div>"
      ],
      "text/plain": [
       "               hotel  is_canceled  lead_time  arrival_date_year  \\\n",
       "0       Resort Hotel            0        342               2015   \n",
       "1       Resort Hotel            0        737               2015   \n",
       "2       Resort Hotel            0          7               2015   \n",
       "3       Resort Hotel            0         13               2015   \n",
       "4       Resort Hotel            0         14               2015   \n",
       "...              ...          ...        ...                ...   \n",
       "119385    City Hotel            0         23               2017   \n",
       "119386    City Hotel            0        102               2017   \n",
       "119387    City Hotel            0         34               2017   \n",
       "119388    City Hotel            0        109               2017   \n",
       "119389    City Hotel            0        205               2017   \n",
       "\n",
       "       arrival_date_month  arrival_date_week_number  \\\n",
       "0                    July                        27   \n",
       "1                    July                        27   \n",
       "2                    July                        27   \n",
       "3                    July                        27   \n",
       "4                    July                        27   \n",
       "...                   ...                       ...   \n",
       "119385             August                        35   \n",
       "119386             August                        35   \n",
       "119387             August                        35   \n",
       "119388             August                        35   \n",
       "119389             August                        35   \n",
       "\n",
       "        arrival_date_day_of_month  stays_in_weekend_nights  \\\n",
       "0                               1                        0   \n",
       "1                               1                        0   \n",
       "2                               1                        0   \n",
       "3                               1                        0   \n",
       "4                               1                        0   \n",
       "...                           ...                      ...   \n",
       "119385                         30                        2   \n",
       "119386                         31                        2   \n",
       "119387                         31                        2   \n",
       "119388                         31                        2   \n",
       "119389                         29                        2   \n",
       "\n",
       "        stays_in_week_nights  adults  ...  days_in_waiting_list  \\\n",
       "0                          0       2  ...                     0   \n",
       "1                          0       2  ...                     0   \n",
       "2                          1       1  ...                     0   \n",
       "3                          1       1  ...                     0   \n",
       "4                          2       2  ...                     0   \n",
       "...                      ...     ...  ...                   ...   \n",
       "119385                     5       2  ...                     0   \n",
       "119386                     5       3  ...                     0   \n",
       "119387                     5       2  ...                     0   \n",
       "119388                     5       2  ...                     0   \n",
       "119389                     7       2  ...                     0   \n",
       "\n",
       "        customer_type     adr required_car_parking_spaces  \\\n",
       "0           Transient    0.00                           0   \n",
       "1           Transient    0.00                           0   \n",
       "2           Transient   75.00                           0   \n",
       "3           Transient   75.00                           0   \n",
       "4           Transient   98.00                           0   \n",
       "...               ...     ...                         ...   \n",
       "119385      Transient   96.14                           0   \n",
       "119386      Transient  225.43                           0   \n",
       "119387      Transient  157.71                           0   \n",
       "119388      Transient  104.40                           0   \n",
       "119389      Transient  151.20                           0   \n",
       "\n",
       "       total_of_special_requests reservation_status  reservation_status_date  \\\n",
       "0                              0          Check-Out               2015-07-01   \n",
       "1                              0          Check-Out               2015-07-01   \n",
       "2                              0          Check-Out               2015-07-02   \n",
       "3                              0          Check-Out               2015-07-02   \n",
       "4                              1          Check-Out               2015-07-03   \n",
       "...                          ...                ...                      ...   \n",
       "119385                         0          Check-Out               2017-09-06   \n",
       "119386                         2          Check-Out               2017-09-07   \n",
       "119387                         4          Check-Out               2017-09-07   \n",
       "119388                         0          Check-Out               2017-09-07   \n",
       "119389                         2          Check-Out               2017-09-07   \n",
       "\n",
       "        total_stay  total_people same_room_not_alloted  \n",
       "0                0             2                     0  \n",
       "1                0             2                     0  \n",
       "2                1             1                     1  \n",
       "3                1             1                     0  \n",
       "4                2             2                     0  \n",
       "...            ...           ...                   ...  \n",
       "119385           7             2                     0  \n",
       "119386           7             3                     0  \n",
       "119387           7             2                     0  \n",
       "119388           7             2                     0  \n",
       "119389           9             2                     0  \n",
       "\n",
       "[63221 rows x 35 columns]"
      ]
     },
     "execution_count": 285,
     "metadata": {},
     "output_type": "execute_result"
    }
   ],
   "source": [
    "not_canceled  = df1[df1.is_canceled == 0]\n",
    "not_canceled\n"
   ]
  },
  {
   "cell_type": "code",
   "execution_count": 286,
   "id": "bf26c9d8",
   "metadata": {},
   "outputs": [],
   "source": [
    "single   = not_canceled[(not_canceled['adults']==1) & (not_canceled['children']==0) & (not_canceled['babies']==0)]\n",
    "couple   = not_canceled[(not_canceled['adults']==2) & (not_canceled['children']==0) & (not_canceled['babies']==0)]\n",
    "family   = not_canceled[not_canceled['adults'] + not_canceled['children'] + not_canceled['babies'] > 2]"
   ]
  },
  {
   "cell_type": "code",
   "execution_count": 289,
   "id": "dc77e22b",
   "metadata": {},
   "outputs": [
    {
     "data": {
      "text/plain": [
       "12974"
      ]
     },
     "execution_count": 289,
     "metadata": {},
     "output_type": "execute_result"
    }
   ],
   "source": [
    "len(single)"
   ]
  },
  {
   "cell_type": "code",
   "execution_count": 290,
   "id": "3666c01a",
   "metadata": {},
   "outputs": [
    {
     "data": {
      "text/plain": [
       "40624"
      ]
     },
     "execution_count": 290,
     "metadata": {},
     "output_type": "execute_result"
    }
   ],
   "source": [
    "len(couple)"
   ]
  },
  {
   "cell_type": "code",
   "execution_count": 291,
   "id": "5aa5d8b2",
   "metadata": {},
   "outputs": [
    {
     "data": {
      "text/plain": [
       "9286"
      ]
     },
     "execution_count": 291,
     "metadata": {},
     "output_type": "execute_result"
    }
   ],
   "source": [
    "len(family)"
   ]
  },
  {
   "cell_type": "markdown",
   "id": "2b66fd22",
   "metadata": {},
   "source": [
    "Moslty bookings are done by couples(although we are not sure that they are couple as data doesn't tell about that)"
   ]
  }
 ],
 "metadata": {
  "kernelspec": {
   "display_name": "Python 3 (ipykernel)",
   "language": "python",
   "name": "python3"
  },
  "language_info": {
   "codemirror_mode": {
    "name": "ipython",
    "version": 3
   },
   "file_extension": ".py",
   "mimetype": "text/x-python",
   "name": "python",
   "nbconvert_exporter": "python",
   "pygments_lexer": "ipython3",
   "version": "3.7.13"
  }
 },
 "nbformat": 4,
 "nbformat_minor": 5
}
